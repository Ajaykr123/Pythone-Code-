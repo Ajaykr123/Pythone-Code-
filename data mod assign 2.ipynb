{
 "cells": [
  {
   "cell_type": "markdown",
   "id": "1609a81b",
   "metadata": {},
   "source": [
    "# question 1/ program"
   ]
  },
  {
   "cell_type": "code",
   "execution_count": 1,
   "id": "8dee8015",
   "metadata": {},
   "outputs": [
    {
     "data": {
      "image/png": "[encoded data removed]",
      "text/plain": [
       "<Figure size 432x288 with 1 Axes>"
      ]
     },
     "metadata": {
      "needs_background": "light"
     },
     "output_type": "display_data"
    }
   ],
   "source": [
    "# ploting x,y axis\n",
    "\n",
    "\n",
    "import matplotlib.pyplot as plt\n",
    "plt.plot([0,.53,1.05,1.58,2.11,2.63,3.16,3.68,4.21,4.74,5.26,5.79,6.32,6.84],[0,.51,.87,1,.86,.49,-.02,-.51,-.88,-1,-.85,-.47,.04,.53])\n",
    "plt.xlabel(\"x axis\")\n",
    "plt.ylabel(\"y axis\")\n",
    "plt.title(\"graph of given data\")\n",
    "plt.show()"
   ]
  },
  {
   "cell_type": "markdown",
   "id": "6a2256cf",
   "metadata": {},
   "source": [
    "# question 2/program"
   ]
  },
  {
   "cell_type": "code",
   "execution_count": 1,
   "id": "81ff646c",
   "metadata": {},
   "outputs": [
    {
     "name": "stdout",
     "output_type": "stream",
     "text": [
      "enter element in row colum[0][0]6\n",
      "enter element in row colum[0][1]4\n",
      "enter element in row colum[0][2]2\n",
      "enter element in row colum[1][0]-5\n",
      "enter element in row colum[1][1]-3\n",
      "enter element in row colum[1][2]-3\n",
      "enter element in row colum[2][0]2\n",
      "enter element in row colum[2][1]2\n",
      "enter element in row colum[2][2]3\n",
      "matrix is .....\n",
      "6    4    2    \n",
      "-5    -3    -3    \n",
      "2    2    3    \n"
     ]
    }
   ],
   "source": [
    "# 2.(a)\n",
    "# creating a matrix\n",
    "\n",
    "a=[]\n",
    "for i in range(3):\n",
    "    b=[]\n",
    "    for j in range(3):\n",
    "        j=input(\"enter element in row colum[\"+str(i)+\"][\"+str(j)+\"]\")\n",
    "        b.append(j)\n",
    "    a.append(b)\n",
    "print(\"matrix is .....\")\n",
    "for i in range(3):\n",
    "    for j in range(3):\n",
    "        print(a[i][j],end=\"    \")\n",
    "    print()\n"
   ]
  },
  {
   "cell_type": "code",
   "execution_count": 2,
   "id": "17209488",
   "metadata": {},
   "outputs": [
    {
     "name": "stdout",
     "output_type": "stream",
     "text": [
      "[[ 6  4  2]\n",
      " [-5 -3 -3]\n",
      " [ 2  2  3]]\n"
     ]
    }
   ],
   "source": [
    "# altarnat method\n",
    "# creating a matrix\n",
    "\n",
    "\n",
    "import numpy as np\n",
    "a=np.array([[6,4,2],[-5,-3,-3],[2,2,3]])\n",
    "print(a)"
   ]
  },
  {
   "cell_type": "code",
   "execution_count": 2,
   "id": "5ff4b87f",
   "metadata": {},
   "outputs": [
    {
     "name": "stdout",
     "output_type": "stream",
     "text": [
      "[[1]\n",
      " [1]\n",
      " [2]]\n"
     ]
    }
   ],
   "source": [
    "# 2.(b)\n",
    "# creating vector \n",
    "\n",
    "import numpy as np\n",
    "vector=np.array([[1],[1],[2]])\n",
    "print(vector)"
   ]
  },
  {
   "cell_type": "code",
   "execution_count": 12,
   "id": "8c284a45",
   "metadata": {},
   "outputs": [
    {
     "name": "stdout",
     "output_type": "stream",
     "text": [
      "[[ 6  4  2]\n",
      " [-5 -3 -3]\n",
      " [ 2  2  3]]\n",
      "Eigon values : [2.+1.j 2.-1.j 2.+0.j]\n",
      "eigen vector: [[-5.78314932e-01-0.11566299j -5.78314932e-01+0.11566299j\n",
      "  -7.07106781e-01+0.j        ]\n",
      " [ 7.51809412e-01+0.j          7.51809412e-01-0.j\n",
      "   7.07106781e-01+0.j        ]\n",
      " [-2.89157466e-01-0.05783149j -2.89157466e-01+0.05783149j\n",
      "   1.38129354e-15+0.j        ]]\n"
     ]
    }
   ],
   "source": [
    "# 2.(c)\n",
    "# eigen value and coresponding eigon vector\n",
    "\n",
    "\n",
    "\n",
    "import numpy as np\n",
    "a=np.array([[6,4,2],[-5,-3,-3],[2,2,3]])\n",
    "print(a)\n",
    "print(\"Eigon values :\",np.linalg.eigvals(a))\n",
    "eigenvalue,eigenvector=np.linalg.eig(a)\n",
    "print(\"eigen vector:\",eigenvector)"
   ]
  },
  {
   "cell_type": "code",
   "execution_count": 22,
   "id": "56cf6e92",
   "metadata": {},
   "outputs": [
    {
     "name": "stdout",
     "output_type": "stream",
     "text": [
      "[[1]\n",
      " [1]\n",
      " [2]]\n",
      " the above vector norm is  2.449489742783178\n"
     ]
    }
   ],
   "source": [
    "# 2.(d)\n",
    "# finding vector norm\n",
    "\n",
    "\n",
    "import numpy as np\n",
    "vector=np.array([[1],[1],[2]])\n",
    "print(vector)\n",
    "v=np.linalg.norm(vector)\n",
    "print(\" the above vector norm is \",v)"
   ]
  },
  {
   "cell_type": "markdown",
   "id": "6b16c2c5",
   "metadata": {},
   "source": [
    "# question 3/ program"
   ]
  },
  {
   "cell_type": "code",
   "execution_count": 11,
   "id": "5ed41945",
   "metadata": {},
   "outputs": [
    {
     "name": "stdout",
     "output_type": "stream",
     "text": [
      "[[ 1]\n",
      " [-3]\n",
      " [ 5]\n",
      " [ 6]]\n",
      "[[ 7]\n",
      " [ 4]\n",
      " [-9]\n",
      " [ 0]]\n"
     ]
    }
   ],
   "source": [
    "# 3.(a)\n",
    "\n",
    "# storing vector a and b\n",
    "\n",
    "import numpy as np\n",
    "a=np.array([[1],[-3],[5],[6]])\n",
    "print(a)\n",
    "b=np.array([[7],[4],[-9],[0]])\n",
    "print(b)"
   ]
  },
  {
   "cell_type": "code",
   "execution_count": 2,
   "id": "7bde020e",
   "metadata": {},
   "outputs": [
    {
     "name": "stdout",
     "output_type": "stream",
     "text": [
      "-50\n",
      " the inner product is  -50\n"
     ]
    }
   ],
   "source": [
    "# 3.(b)\n",
    "# inner product of a and b\n",
    "\n",
    "\n",
    "import numpy as np\n",
    "vector1=np.array([1,-3,5,6])\n",
    "vector2=np.array([7,4,-9,0])\n",
    "print(vector1.T@vector2)\n",
    "print(\" the inner product is \", np.dot(vector1, vector2))"
   ]
  },
  {
   "cell_type": "markdown",
   "id": "f159ca83",
   "metadata": {},
   "source": [
    "# question 4/ program"
   ]
  },
  {
   "cell_type": "code",
   "execution_count": 3,
   "id": "8384913d",
   "metadata": {},
   "outputs": [
    {
     "data": {
      "image/png": "[encoded data removed]",
      "text/plain": [
       "<Figure size 432x288 with 1 Axes>"
      ]
     },
     "metadata": {
      "needs_background": "light"
     },
     "output_type": "display_data"
    }
   ],
   "source": [
    "# Histogram ploting\n",
    "\n",
    "\n",
    "import matplotlib.pyplot as plt\n",
    "x= [22,55,62,45,21,22,34,42,42,4,2,102,95,85,55,110,120,\n",
    "70,65,55,111,115,80,75,65,54,44,43,42,48]\n",
    "y=[0,10,20,30,40,50,60,70,80,90,100]\n",
    "\n",
    "plt.hist(x,y,ec=\"pink\")\n",
    "plt.xlabel(\" age groups \")\n",
    "plt.ylabel(\" Number of people \")\n",
    "plt.title(\"Histogram\")\n",
    "plt.show()"
   ]
  },
  {
   "cell_type": "markdown",
   "id": "cbdcf361",
   "metadata": {},
   "source": [
    "# question 5/ program"
   ]
  },
  {
   "cell_type": "code",
   "execution_count": 4,
   "id": "847f528c",
   "metadata": {},
   "outputs": [
    {
     "name": "stdout",
     "output_type": "stream",
     "text": [
      "[array([0.76858284, 0.34591097, 0.79282211, 0.44264409, 0.670169  ,\n",
      "       0.10162834, 0.47626989, 0.37144418, 0.6772537 , 0.90216546,\n",
      "       0.49526958, 0.85819884, 0.04334052, 0.13641095, 0.47980884,\n",
      "       0.62982389, 0.47768131, 0.89672513, 0.11399719, 0.43270197,\n",
      "       0.61965703, 0.04370987, 0.47902766, 0.3591621 , 0.55191848,\n",
      "       0.77585797, 0.98996918, 0.01921609, 0.61226594, 0.46259955,\n",
      "       0.86991827, 0.67160149, 0.44233781, 0.40240333, 0.8808463 ,\n",
      "       0.6782621 , 0.7753925 , 0.04257214, 0.42868023, 0.13362195,\n",
      "       0.21088598, 0.46708242, 0.1136971 , 0.77121958, 0.80785486,\n",
      "       0.02507904, 0.23679502, 0.33723182, 0.21893886, 0.85182119,\n",
      "       0.90546951, 0.49169659, 0.66180344, 0.42715433, 0.74791895,\n",
      "       0.15443163, 0.47496852, 0.07248779, 0.45924705, 0.79041188,\n",
      "       0.53004248, 0.71119829, 0.69045363, 0.72208214, 0.99821169,\n",
      "       0.0511523 , 0.51476825, 0.06017929, 0.12876799, 0.70808795,\n",
      "       0.6238747 , 0.3780155 , 0.36707728, 0.92262619, 0.82577924,\n",
      "       0.109068  , 0.10493099, 0.43844354, 0.4272457 , 0.84331217,\n",
      "       0.51562838, 0.49467319, 0.77932204, 0.53216242, 0.18875605,\n",
      "       0.55164005, 0.22840593, 0.4385722 , 0.95205358, 0.53353214,\n",
      "       0.18649613, 0.63989952, 0.73311386, 0.99273393, 0.83658262,\n",
      "       0.92331473, 0.88117453, 0.66821227, 0.66195807, 0.85260122,\n",
      "       0.2600161 , 0.79706652, 0.91886473, 0.93925066, 0.99715119,\n",
      "       0.49359499, 0.60639414, 0.91138151, 0.10572456, 0.11134997,\n",
      "       0.06831515, 0.99329734, 0.77995987, 0.98678765, 0.98090431,\n",
      "       0.02981236, 0.8829303 , 0.71836255, 0.83321523, 0.76543   ,\n",
      "       0.44089275, 0.45860809, 0.93134675, 0.73120643, 0.22782226,\n",
      "       0.59304021, 0.04147805, 0.49727729, 0.07796371, 0.4856276 ,\n",
      "       0.05209877, 0.28038124, 0.29756258, 0.49994747, 0.78614676,\n",
      "       0.69515026, 0.24451056, 0.99226748, 0.04995524, 0.89399455,\n",
      "       0.32213638, 0.68751041, 0.77299334, 0.89997074, 0.27206939,\n",
      "       0.67461352, 0.68143076, 0.08160078, 0.38355358, 0.9990289 ,\n",
      "       0.08375699, 0.75007303, 0.87313335, 0.96090168, 0.94393655,\n",
      "       0.88399744, 0.27478798, 0.52652124, 0.63058558, 0.81416375,\n",
      "       0.03885934, 0.97504965, 0.03681648, 0.25971544, 0.18553383,\n",
      "       0.388568  , 0.06527158, 0.91937555, 0.00873725, 0.12551646,\n",
      "       0.27769745, 0.81399307, 0.05463413, 0.69493522, 0.79293868,\n",
      "       0.10263496, 0.48921751, 0.53417156, 0.40171377, 0.50534002,\n",
      "       0.50572624, 0.32220174, 0.15779035, 0.72514242, 0.1863395 ,\n",
      "       0.50256683, 0.5792388 , 0.73725544, 0.5653719 , 0.97856885,\n",
      "       0.39373848, 0.13058899, 0.58266212, 0.86251281, 0.68552046,\n",
      "       0.88167934, 0.19111621, 0.43185338, 0.78794248, 0.02258645,\n",
      "       0.69326048, 0.5310701 , 0.32982725, 0.6707048 , 0.76729445,\n",
      "       0.38743215, 0.03068547, 0.12732466, 0.60417212, 0.15725689,\n",
      "       0.43158227, 0.59017016, 0.3972953 , 0.19082554, 0.82582911,\n",
      "       0.6326726 , 0.95947036, 0.97462526, 0.13360278, 0.92996073,\n",
      "       0.16808251, 0.61098637, 0.32859416, 0.7335106 , 0.99201278,\n",
      "       0.16663162, 0.53251216, 0.63423243, 0.10608727, 0.15528131,\n",
      "       0.16052201, 0.39475406, 0.7594438 , 0.16788787, 0.37032933,\n",
      "       0.85317742, 0.91720493, 0.98136933, 0.0622029 , 0.07789024,\n",
      "       0.02543801, 0.29561863, 0.9289712 , 0.15357696, 0.81345702,\n",
      "       0.50507368, 0.5452881 , 0.7559815 , 0.00938408, 0.99912659,\n",
      "       0.79441672, 0.13730279, 0.50498155, 0.89884773, 0.33946153,\n",
      "       0.61510356, 0.67012321, 0.53419523, 0.72964937, 0.76697217,\n",
      "       0.74109509, 0.44423611, 0.35113731, 0.53853802, 0.86635686,\n",
      "       0.58077195, 0.12990188, 0.7574199 , 0.71434226, 0.91683662,\n",
      "       0.31339745, 0.93962276, 0.63482046, 0.92546416, 0.71199074,\n",
      "       0.77730728, 0.84223692, 0.22984509, 0.23419601, 0.26116334,\n",
      "       0.55357033, 0.58837603, 0.03639594, 0.2980523 , 0.20748009,\n",
      "       0.14218426, 0.75493332, 0.69879327, 0.41587222, 0.58619164,\n",
      "       0.36569528, 0.20917592, 0.16633008, 0.42998902, 0.15416575,\n",
      "       0.18952699, 0.51010568, 0.03688718, 0.77180948, 0.35436203,\n",
      "       0.38485811, 0.73515529, 0.15042504, 0.21621186, 0.76099482,\n",
      "       0.12687226, 0.62082171, 0.57702377, 0.4519659 , 0.20112439,\n",
      "       0.35234892, 0.34168065, 0.2317535 , 0.47307054, 0.33578691,\n",
      "       0.36678703, 0.45193651, 0.6188718 , 0.24967811, 0.67361428,\n",
      "       0.11122522, 0.22370146, 0.47115597, 0.28310464, 0.59473371,\n",
      "       0.75101419, 0.3921224 , 0.79149412, 0.98078566, 0.69047798,\n",
      "       0.38939243, 0.70110573, 0.73114339, 0.73606374, 0.39520771,\n",
      "       0.81798218, 0.21853908, 0.53864385, 0.7622898 , 0.34507067,\n",
      "       0.28298016, 0.54058939, 0.90622423, 0.30410782, 0.46067409,\n",
      "       0.00168513, 0.22205756, 0.45614717, 0.64871957, 0.13360443,\n",
      "       0.81702877, 0.49139048, 0.55337203, 0.5460136 , 0.61551871,\n",
      "       0.4799249 , 0.55229482, 0.58717011, 0.86453825, 0.94630086,\n",
      "       0.94508439, 0.52169342, 0.68083137, 0.34866111, 0.42335574,\n",
      "       0.44504862, 0.37011162, 0.38423072, 0.15520301, 0.62231307,\n",
      "       0.76490994, 0.9894107 , 0.09327019, 0.39314097, 0.46497706,\n",
      "       0.96257623, 0.18831263, 0.13344197, 0.78374391, 0.47793641,\n",
      "       0.89698205, 0.37626702, 0.2312101 , 0.49957324, 0.48169512,\n",
      "       0.74049191, 0.95638286, 0.69406533, 0.22633064, 0.13717416,\n",
      "       0.37901695, 0.82075549, 0.96052238, 0.73636245, 0.49568602,\n",
      "       0.17126501, 0.04085245, 0.1285246 , 0.30006187, 0.08662285,\n",
      "       0.56732109, 0.87185866, 0.48417965, 0.48650347, 0.20640559,\n",
      "       0.22549215, 0.90072404, 0.68125126, 0.94737004, 0.46956602,\n",
      "       0.45546425, 0.20545574, 0.00817668, 0.43722181, 0.03005884,\n",
      "       0.50288363, 0.75981465, 0.82811263, 0.40225178, 0.20409841,\n",
      "       0.9005044 , 0.65858521, 0.96142252, 0.32696743, 0.3663524 ,\n",
      "       0.30521754, 0.94525285, 0.6617852 , 0.59922414, 0.21871821,\n",
      "       0.05699997, 0.99515843, 0.79633504, 0.41890618, 0.28832745,\n",
      "       0.13361126, 0.47193688, 0.53492243, 0.90359966, 0.10291363,\n",
      "       0.21984971, 0.68801857, 0.05426834, 0.73288678, 0.72321821,\n",
      "       0.10806922, 0.25158515, 0.70807139, 0.61475929, 0.6389656 ,\n",
      "       0.85807863, 0.9874161 , 0.72665138, 0.04182037, 0.6069684 ,\n",
      "       0.8475294 , 0.90067042, 0.54517676, 0.4868098 , 0.30395103,\n",
      "       0.85291583, 0.20146147, 0.799338  , 0.92254955, 0.16698303,\n",
      "       0.05139176, 0.4826177 , 0.56140339, 0.44568986, 0.96459714,\n",
      "       0.57423976, 0.61261696, 0.31046196, 0.6499557 , 0.25308481,\n",
      "       0.71449932, 0.6730861 , 0.10236443, 0.30707471, 0.1204706 ,\n",
      "       0.79976584, 0.19434748, 0.44403087, 0.57104834, 0.79463778,\n",
      "       0.008105  , 0.74460256, 0.6382758 , 0.25861032, 0.86447698,\n",
      "       0.41240507, 0.2165455 , 0.43448101, 0.73602424, 0.16183646,\n",
      "       0.31365112, 0.07656079, 0.64933175, 0.56220163, 0.28900432,\n",
      "       0.73196399, 0.69304398, 0.19557591, 0.39940199, 0.67663785,\n",
      "       0.74708978, 0.74024376, 0.49262649, 0.90591159, 0.62108547,\n",
      "       0.38365759, 0.47454683, 0.65599444, 0.37306222, 0.1889509 ,\n",
      "       0.45222501, 0.10599581, 0.5429438 , 0.5801407 , 0.00997582,\n",
      "       0.98162067, 0.60865794, 0.18733198, 0.19015397, 0.76607808,\n",
      "       0.94089754, 0.79324551, 0.36078668, 0.56660555, 0.12909695,\n",
      "       0.84000944, 0.05770963, 0.8898655 , 0.54540524, 0.24826843,\n",
      "       0.76267817, 0.40746269, 0.92167977, 0.08378361, 0.11724197,\n",
      "       0.97611771, 0.71529496, 0.65759742, 0.48551253, 0.23034374,\n",
      "       0.60528595, 0.1759814 , 0.43094599, 0.78523586, 0.86253027,\n",
      "       0.16029063, 0.25290578, 0.4304464 , 0.56046809, 0.51373133,\n",
      "       0.03504109, 0.38670973, 0.48125441, 0.202291  , 0.72734026,\n",
      "       0.24708997, 0.22175669, 0.0222808 , 0.36230129, 0.6619018 ,\n",
      "       0.98145812, 0.07624055, 0.48332047, 0.67273847, 0.18566545,\n",
      "       0.33698076, 0.80155189, 0.93563866, 0.60591266, 0.2857123 ,\n",
      "       0.05167312, 0.75524408, 0.34528911, 0.0071425 , 0.34602489,\n",
      "       0.4256519 , 0.72633536, 0.26057464, 0.23184818, 0.80721768,\n",
      "       0.63993821, 0.59314544, 0.36948261, 0.82516958, 0.24796636,\n",
      "       0.37634391, 0.4605002 , 0.76786983, 0.51603989, 0.85075025,\n",
      "       0.63633826, 0.99918055, 0.90569175, 0.1537752 , 0.32174621,\n",
      "       0.74638564, 0.23092436, 0.40088387, 0.14377772, 0.40292713,\n",
      "       0.92859164, 0.93339604, 0.76772437, 0.19243671, 0.70075131,\n",
      "       0.96021504, 0.30240716, 0.66802535, 0.18792316, 0.05022164,\n",
      "       0.02073   , 0.60301671, 0.70614341, 0.67823507, 0.98906716,\n",
      "       0.30286712, 0.25302514, 0.19288491, 0.15341564, 0.48870269,\n",
      "       0.5635029 , 0.13843071, 0.61812968, 0.36124559, 0.25759257,\n",
      "       0.17162494, 0.51613287, 0.81331151, 0.1291128 , 0.90504626,\n",
      "       0.9556058 , 0.28338625, 0.46211938, 0.94433996, 0.86451935,\n",
      "       0.84134426, 0.94273304, 0.19000606, 0.37562901, 0.2833656 ,\n",
      "       0.09450169, 0.30577125, 0.2416255 , 0.4409956 , 0.21355476,\n",
      "       0.12162   , 0.85517869, 0.74353789, 0.70347498, 0.15088931,\n",
      "       0.54081892, 0.48387558, 0.93366988, 0.85006406, 0.04664455,\n",
      "       0.12145985, 0.0934894 , 0.22684924, 0.82599388, 0.24171066,\n",
      "       0.00189849, 0.39507265, 0.58571796, 0.55858997, 0.62992156,\n",
      "       0.40339893, 0.64600544, 0.57744829, 0.11476647, 0.07705298,\n",
      "       0.76668851, 0.78254376, 0.05803409, 0.75550729, 0.28893074,\n",
      "       0.5759046 , 0.42132855, 0.24931429, 0.55423658, 0.42447676,\n",
      "       0.24562041, 0.76277165, 0.29793089, 0.20095759, 0.28624621,\n",
      "       0.7398309 , 0.9233504 , 0.98533092, 0.39683321, 0.23641935,\n",
      "       0.8019784 , 0.08864479, 0.0569893 , 0.70516255, 0.08691895,\n",
      "       0.06783266, 0.89305311, 0.2263391 , 0.30472086, 0.82892995,\n",
      "       0.63576071, 0.33748399, 0.35760527, 0.37438676, 0.06172534,\n",
      "       0.06944282, 0.18587733, 0.10520214, 0.90033517, 0.13958265,\n",
      "       0.28901755, 0.32439949, 0.82964771, 0.25031802, 0.10267357,\n",
      "       0.82617392, 0.80806329, 0.79627021, 0.51512593, 0.49631206,\n",
      "       0.4149233 , 0.11727672, 0.98670452, 0.39380553, 0.97998152,\n",
      "       0.04879224, 0.07328674, 0.34533913, 0.40821648, 0.50584953,\n",
      "       0.08512789, 0.14583625, 0.94631064, 0.75248548, 0.76542865,\n",
      "       0.50110762, 0.95934052, 0.66731499, 0.30605845, 0.10275131,\n",
      "       0.32260579, 0.84838691, 0.96843131, 0.89757983, 0.58938376,\n",
      "       0.72329687, 0.17200498, 0.37428408, 0.04819547, 0.76972931,\n",
      "       0.83402772, 0.35503819, 0.0030023 , 0.84648884, 0.90124012,\n",
      "       0.9545619 , 0.8856969 , 0.15388371, 0.15725471, 0.47869752,\n",
      "       0.63616584, 0.1820192 , 0.25434473, 0.94985711, 0.14501826,\n",
      "       0.98648623, 0.5720565 , 0.09578321, 0.5115273 , 0.37662624,\n",
      "       0.83196282, 0.44588893, 0.00154097, 0.56564176, 0.46161325,\n",
      "       0.52789839, 0.45739394, 0.23380661, 0.53767296, 0.44140293,\n",
      "       0.80118337, 0.4954522 , 0.40953601, 0.65808344, 0.08688773,\n",
      "       0.86824657, 0.62385264, 0.5579513 , 0.77944837, 0.93309248,\n",
      "       0.34757664, 0.62299985, 0.59993314, 0.23709828, 0.51725182,\n",
      "       0.19589488, 0.16835174, 0.62100558, 0.45346584, 0.14728927,\n",
      "       0.12442296, 0.97084583, 0.88696743, 0.71547438, 0.18311995,\n",
      "       0.60509043, 0.60945895, 0.82574825, 0.1310315 , 0.84582653,\n",
      "       0.4032879 , 0.1987616 , 0.82823939, 0.25905808, 0.74013751,\n",
      "       0.53398935, 0.52723253, 0.4296322 , 0.37352778, 0.02681135,\n",
      "       0.96239646, 0.07102954, 0.14067876, 0.28138198, 0.6581151 ,\n",
      "       0.79249453, 0.48479364, 0.03470451, 0.92590403, 0.24978088,\n",
      "       0.97665344, 0.48110108, 0.60760538, 0.14860401, 0.69051429,\n",
      "       0.82297266, 0.90924968, 0.71812986, 0.1887913 , 0.50014719,\n",
      "       0.83589093, 0.27098321, 0.50311164, 0.74953321, 0.6504164 ,\n",
      "       0.40632247, 0.46117242, 0.67892968, 0.94787812, 0.10027997,\n",
      "       0.68406028, 0.10137841, 0.00958626, 0.23034095, 0.76906327,\n",
      "       0.97671354, 0.78574644, 0.26478229, 0.40644964, 0.58464626,\n",
      "       0.30325527, 0.16866223, 0.70613809, 0.78294462, 0.34003422,\n",
      "       0.32245141, 0.79011051, 0.39776128, 0.49091629, 0.58238332,\n",
      "       0.1943633 , 0.50716188, 0.55920765, 0.8241915 , 0.54654515,\n",
      "       0.72136556, 0.59224061, 0.11066411, 0.32557475, 0.68580603,\n",
      "       0.282706  , 0.69202035, 0.18740919, 0.34290592, 0.40114264,\n",
      "       0.18527173, 0.07717827, 0.28508171, 0.31304653, 0.01913327,\n",
      "       0.93072017, 0.96859529, 0.92356131, 0.27689497, 0.55967423,\n",
      "       0.41011054, 0.2473716 , 0.81258923, 0.17715952, 0.92672026,\n",
      "       0.10252539, 0.89181414, 0.09323202, 0.73019851, 0.21596643,\n",
      "       0.78639545, 0.72731039, 0.96471402, 0.1450614 , 0.54979145,\n",
      "       0.79523416, 0.33420737, 0.01047857, 0.56889508, 0.08793048,\n",
      "       0.41330874, 0.58037573, 0.74426496, 0.43143792, 0.88619197,\n",
      "       0.99338576, 0.65786503, 0.23983446, 0.22011504, 0.47254204,\n",
      "       0.50177723, 0.44441816, 0.8007973 , 0.03031073, 0.11244298,\n",
      "       0.1061025 , 0.1175754 , 0.53200908, 0.81198811, 0.85000544,\n",
      "       0.08917233, 0.74244651, 0.20013725, 0.84239076, 0.6902048 ,\n",
      "       0.39619737, 0.93795157, 0.35280388, 0.11019971, 0.79168056,\n",
      "       0.78822032, 0.91296911, 0.87640807, 0.0512354 , 0.48438494,\n",
      "       0.44387802, 0.88545947, 0.43130088, 0.33603902, 0.0147512 ,\n",
      "       0.73493463, 0.29416145, 0.46405419, 0.20097842, 0.34989633,\n",
      "       0.23840082, 0.04740163, 0.70154044, 0.48057389, 0.58775729,\n",
      "       0.00869829, 0.34291287, 0.50634805, 0.71881674, 0.66506062,\n",
      "       0.16391882, 0.44249076, 0.67696788, 0.61263239, 0.44248587,\n",
      "       0.58936384, 0.5190734 , 0.48002374, 0.41827432, 0.2535313 ,\n",
      "       0.60312666, 0.50278278, 0.00688979, 0.75550677, 0.61650431,\n",
      "       0.63143672, 0.99148227, 0.03276068, 0.22105925, 0.03996853,\n",
      "       0.60980036, 0.60252704, 0.86896766, 0.06242584, 0.91870182])]\n"
     ]
    }
   ],
   "source": [
    "# 5.(a)\n",
    "\n",
    "# Generating 1000 random numbers from [0,1)\n",
    "\n",
    "\n",
    "import numpy as np\n",
    "mylist=np.random.rand(1000)\n",
    "print([mylist])\n"
   ]
  },
  {
   "cell_type": "code",
   "execution_count": 15,
   "id": "050f043b",
   "metadata": {},
   "outputs": [
    {
     "name": "stdout",
     "output_type": "stream",
     "text": [
      "[array([0.76858284, 0.34591097, 0.79282211, 0.44264409, 0.670169  ,\n",
      "       0.10162834, 0.47626989, 0.37144418, 0.6772537 , 0.90216546,\n",
      "       0.49526958, 0.85819884, 0.04334052, 0.13641095, 0.47980884,\n",
      "       0.62982389, 0.47768131, 0.89672513, 0.11399719, 0.43270197,\n",
      "       0.61965703, 0.04370987, 0.47902766, 0.3591621 , 0.55191848,\n",
      "       0.77585797, 0.98996918, 0.01921609, 0.61226594, 0.46259955,\n",
      "       0.86991827, 0.67160149, 0.44233781, 0.40240333, 0.8808463 ,\n",
      "       0.6782621 , 0.7753925 , 0.04257214, 0.42868023, 0.13362195,\n",
      "       0.21088598, 0.46708242, 0.1136971 , 0.77121958, 0.80785486,\n",
      "       0.02507904, 0.23679502, 0.33723182, 0.21893886, 0.85182119,\n",
      "       0.90546951, 0.49169659, 0.66180344, 0.42715433, 0.74791895,\n",
      "       0.15443163, 0.47496852, 0.07248779, 0.45924705, 0.79041188,\n",
      "       0.53004248, 0.71119829, 0.69045363, 0.72208214, 0.99821169,\n",
      "       0.0511523 , 0.51476825, 0.06017929, 0.12876799, 0.70808795,\n",
      "       0.6238747 , 0.3780155 , 0.36707728, 0.92262619, 0.82577924,\n",
      "       0.109068  , 0.10493099, 0.43844354, 0.4272457 , 0.84331217,\n",
      "       0.51562838, 0.49467319, 0.77932204, 0.53216242, 0.18875605,\n",
      "       0.55164005, 0.22840593, 0.4385722 , 0.95205358, 0.53353214,\n",
      "       0.18649613, 0.63989952, 0.73311386, 0.99273393, 0.83658262,\n",
      "       0.92331473, 0.88117453, 0.66821227, 0.66195807, 0.85260122,\n",
      "       0.2600161 , 0.79706652, 0.91886473, 0.93925066, 0.99715119,\n",
      "       0.49359499, 0.60639414, 0.91138151, 0.10572456, 0.11134997,\n",
      "       0.06831515, 0.99329734, 0.77995987, 0.98678765, 0.98090431,\n",
      "       0.02981236, 0.8829303 , 0.71836255, 0.83321523, 0.76543   ,\n",
      "       0.44089275, 0.45860809, 0.93134675, 0.73120643, 0.22782226,\n",
      "       0.59304021, 0.04147805, 0.49727729, 0.07796371, 0.4856276 ,\n",
      "       0.05209877, 0.28038124, 0.29756258, 0.49994747, 0.78614676,\n",
      "       0.69515026, 0.24451056, 0.99226748, 0.04995524, 0.89399455,\n",
      "       0.32213638, 0.68751041, 0.77299334, 0.89997074, 0.27206939,\n",
      "       0.67461352, 0.68143076, 0.08160078, 0.38355358, 0.9990289 ,\n",
      "       0.08375699, 0.75007303, 0.87313335, 0.96090168, 0.94393655,\n",
      "       0.88399744, 0.27478798, 0.52652124, 0.63058558, 0.81416375,\n",
      "       0.03885934, 0.97504965, 0.03681648, 0.25971544, 0.18553383,\n",
      "       0.388568  , 0.06527158, 0.91937555, 0.00873725, 0.12551646,\n",
      "       0.27769745, 0.81399307, 0.05463413, 0.69493522, 0.79293868,\n",
      "       0.10263496, 0.48921751, 0.53417156, 0.40171377, 0.50534002,\n",
      "       0.50572624, 0.32220174, 0.15779035, 0.72514242, 0.1863395 ,\n",
      "       0.50256683, 0.5792388 , 0.73725544, 0.5653719 , 0.97856885,\n",
      "       0.39373848, 0.13058899, 0.58266212, 0.86251281, 0.68552046,\n",
      "       0.88167934, 0.19111621, 0.43185338, 0.78794248, 0.02258645,\n",
      "       0.69326048, 0.5310701 , 0.32982725, 0.6707048 , 0.76729445,\n",
      "       0.38743215, 0.03068547, 0.12732466, 0.60417212, 0.15725689,\n",
      "       0.43158227, 0.59017016, 0.3972953 , 0.19082554, 0.82582911,\n",
      "       0.6326726 , 0.95947036, 0.97462526, 0.13360278, 0.92996073,\n",
      "       0.16808251, 0.61098637, 0.32859416, 0.7335106 , 0.99201278,\n",
      "       0.16663162, 0.53251216, 0.63423243, 0.10608727, 0.15528131,\n",
      "       0.16052201, 0.39475406, 0.7594438 , 0.16788787, 0.37032933,\n",
      "       0.85317742, 0.91720493, 0.98136933, 0.0622029 , 0.07789024,\n",
      "       0.02543801, 0.29561863, 0.9289712 , 0.15357696, 0.81345702,\n",
      "       0.50507368, 0.5452881 , 0.7559815 , 0.00938408, 0.99912659,\n",
      "       0.79441672, 0.13730279, 0.50498155, 0.89884773, 0.33946153,\n",
      "       0.61510356, 0.67012321, 0.53419523, 0.72964937, 0.76697217,\n",
      "       0.74109509, 0.44423611, 0.35113731, 0.53853802, 0.86635686,\n",
      "       0.58077195, 0.12990188, 0.7574199 , 0.71434226, 0.91683662,\n",
      "       0.31339745, 0.93962276, 0.63482046, 0.92546416, 0.71199074,\n",
      "       0.77730728, 0.84223692, 0.22984509, 0.23419601, 0.26116334,\n",
      "       0.55357033, 0.58837603, 0.03639594, 0.2980523 , 0.20748009,\n",
      "       0.14218426, 0.75493332, 0.69879327, 0.41587222, 0.58619164,\n",
      "       0.36569528, 0.20917592, 0.16633008, 0.42998902, 0.15416575,\n",
      "       0.18952699, 0.51010568, 0.03688718, 0.77180948, 0.35436203,\n",
      "       0.38485811, 0.73515529, 0.15042504, 0.21621186, 0.76099482,\n",
      "       0.12687226, 0.62082171, 0.57702377, 0.4519659 , 0.20112439,\n",
      "       0.35234892, 0.34168065, 0.2317535 , 0.47307054, 0.33578691,\n",
      "       0.36678703, 0.45193651, 0.6188718 , 0.24967811, 0.67361428,\n",
      "       0.11122522, 0.22370146, 0.47115597, 0.28310464, 0.59473371,\n",
      "       0.75101419, 0.3921224 , 0.79149412, 0.98078566, 0.69047798,\n",
      "       0.38939243, 0.70110573, 0.73114339, 0.73606374, 0.39520771,\n",
      "       0.81798218, 0.21853908, 0.53864385, 0.7622898 , 0.34507067,\n",
      "       0.28298016, 0.54058939, 0.90622423, 0.30410782, 0.46067409,\n",
      "       0.00168513, 0.22205756, 0.45614717, 0.64871957, 0.13360443,\n",
      "       0.81702877, 0.49139048, 0.55337203, 0.5460136 , 0.61551871,\n",
      "       0.4799249 , 0.55229482, 0.58717011, 0.86453825, 0.94630086,\n",
      "       0.94508439, 0.52169342, 0.68083137, 0.34866111, 0.42335574,\n",
      "       0.44504862, 0.37011162, 0.38423072, 0.15520301, 0.62231307,\n",
      "       0.76490994, 0.9894107 , 0.09327019, 0.39314097, 0.46497706,\n",
      "       0.96257623, 0.18831263, 0.13344197, 0.78374391, 0.47793641,\n",
      "       0.89698205, 0.37626702, 0.2312101 , 0.49957324, 0.48169512,\n",
      "       0.74049191, 0.95638286, 0.69406533, 0.22633064, 0.13717416,\n",
      "       0.37901695, 0.82075549, 0.96052238, 0.73636245, 0.49568602,\n",
      "       0.17126501, 0.04085245, 0.1285246 , 0.30006187, 0.08662285,\n",
      "       0.56732109, 0.87185866, 0.48417965, 0.48650347, 0.20640559,\n",
      "       0.22549215, 0.90072404, 0.68125126, 0.94737004, 0.46956602,\n",
      "       0.45546425, 0.20545574, 0.00817668, 0.43722181, 0.03005884,\n",
      "       0.50288363, 0.75981465, 0.82811263, 0.40225178, 0.20409841,\n",
      "       0.9005044 , 0.65858521, 0.96142252, 0.32696743, 0.3663524 ,\n",
      "       0.30521754, 0.94525285, 0.6617852 , 0.59922414, 0.21871821,\n",
      "       0.05699997, 0.99515843, 0.79633504, 0.41890618, 0.28832745,\n",
      "       0.13361126, 0.47193688, 0.53492243, 0.90359966, 0.10291363,\n",
      "       0.21984971, 0.68801857, 0.05426834, 0.73288678, 0.72321821,\n",
      "       0.10806922, 0.25158515, 0.70807139, 0.61475929, 0.6389656 ,\n",
      "       0.85807863, 0.9874161 , 0.72665138, 0.04182037, 0.6069684 ,\n",
      "       0.8475294 , 0.90067042, 0.54517676, 0.4868098 , 0.30395103,\n",
      "       0.85291583, 0.20146147, 0.799338  , 0.92254955, 0.16698303,\n",
      "       0.05139176, 0.4826177 , 0.56140339, 0.44568986, 0.96459714,\n",
      "       0.57423976, 0.61261696, 0.31046196, 0.6499557 , 0.25308481,\n",
      "       0.71449932, 0.6730861 , 0.10236443, 0.30707471, 0.1204706 ,\n",
      "       0.79976584, 0.19434748, 0.44403087, 0.57104834, 0.79463778,\n",
      "       0.008105  , 0.74460256, 0.6382758 , 0.25861032, 0.86447698,\n",
      "       0.41240507, 0.2165455 , 0.43448101, 0.73602424, 0.16183646,\n",
      "       0.31365112, 0.07656079, 0.64933175, 0.56220163, 0.28900432,\n",
      "       0.73196399])]\n"
     ]
    }
   ],
   "source": [
    "# storing the first 500 in vector x\n",
    "x=mylist[0:501]\n",
    "print([x])"
   ]
  },
  {
   "cell_type": "code",
   "execution_count": 16,
   "id": "d7ea6639",
   "metadata": {},
   "outputs": [
    {
     "name": "stdout",
     "output_type": "stream",
     "text": [
      "[array([0.69304398, 0.19557591, 0.39940199, 0.67663785, 0.74708978,\n",
      "       0.74024376, 0.49262649, 0.90591159, 0.62108547, 0.38365759,\n",
      "       0.47454683, 0.65599444, 0.37306222, 0.1889509 , 0.45222501,\n",
      "       0.10599581, 0.5429438 , 0.5801407 , 0.00997582, 0.98162067,\n",
      "       0.60865794, 0.18733198, 0.19015397, 0.76607808, 0.94089754,\n",
      "       0.79324551, 0.36078668, 0.56660555, 0.12909695, 0.84000944,\n",
      "       0.05770963, 0.8898655 , 0.54540524, 0.24826843, 0.76267817,\n",
      "       0.40746269, 0.92167977, 0.08378361, 0.11724197, 0.97611771,\n",
      "       0.71529496, 0.65759742, 0.48551253, 0.23034374, 0.60528595,\n",
      "       0.1759814 , 0.43094599, 0.78523586, 0.86253027, 0.16029063,\n",
      "       0.25290578, 0.4304464 , 0.56046809, 0.51373133, 0.03504109,\n",
      "       0.38670973, 0.48125441, 0.202291  , 0.72734026, 0.24708997,\n",
      "       0.22175669, 0.0222808 , 0.36230129, 0.6619018 , 0.98145812,\n",
      "       0.07624055, 0.48332047, 0.67273847, 0.18566545, 0.33698076,\n",
      "       0.80155189, 0.93563866, 0.60591266, 0.2857123 , 0.05167312,\n",
      "       0.75524408, 0.34528911, 0.0071425 , 0.34602489, 0.4256519 ,\n",
      "       0.72633536, 0.26057464, 0.23184818, 0.80721768, 0.63993821,\n",
      "       0.59314544, 0.36948261, 0.82516958, 0.24796636, 0.37634391,\n",
      "       0.4605002 , 0.76786983, 0.51603989, 0.85075025, 0.63633826,\n",
      "       0.99918055, 0.90569175, 0.1537752 , 0.32174621, 0.74638564,\n",
      "       0.23092436, 0.40088387, 0.14377772, 0.40292713, 0.92859164,\n",
      "       0.93339604, 0.76772437, 0.19243671, 0.70075131, 0.96021504,\n",
      "       0.30240716, 0.66802535, 0.18792316, 0.05022164, 0.02073   ,\n",
      "       0.60301671, 0.70614341, 0.67823507, 0.98906716, 0.30286712,\n",
      "       0.25302514, 0.19288491, 0.15341564, 0.48870269, 0.5635029 ,\n",
      "       0.13843071, 0.61812968, 0.36124559, 0.25759257, 0.17162494,\n",
      "       0.51613287, 0.81331151, 0.1291128 , 0.90504626, 0.9556058 ,\n",
      "       0.28338625, 0.46211938, 0.94433996, 0.86451935, 0.84134426,\n",
      "       0.94273304, 0.19000606, 0.37562901, 0.2833656 , 0.09450169,\n",
      "       0.30577125, 0.2416255 , 0.4409956 , 0.21355476, 0.12162   ,\n",
      "       0.85517869, 0.74353789, 0.70347498, 0.15088931, 0.54081892,\n",
      "       0.48387558, 0.93366988, 0.85006406, 0.04664455, 0.12145985,\n",
      "       0.0934894 , 0.22684924, 0.82599388, 0.24171066, 0.00189849,\n",
      "       0.39507265, 0.58571796, 0.55858997, 0.62992156, 0.40339893,\n",
      "       0.64600544, 0.57744829, 0.11476647, 0.07705298, 0.76668851,\n",
      "       0.78254376, 0.05803409, 0.75550729, 0.28893074, 0.5759046 ,\n",
      "       0.42132855, 0.24931429, 0.55423658, 0.42447676, 0.24562041,\n",
      "       0.76277165, 0.29793089, 0.20095759, 0.28624621, 0.7398309 ,\n",
      "       0.9233504 , 0.98533092, 0.39683321, 0.23641935, 0.8019784 ,\n",
      "       0.08864479, 0.0569893 , 0.70516255, 0.08691895, 0.06783266,\n",
      "       0.89305311, 0.2263391 , 0.30472086, 0.82892995, 0.63576071,\n",
      "       0.33748399, 0.35760527, 0.37438676, 0.06172534, 0.06944282,\n",
      "       0.18587733, 0.10520214, 0.90033517, 0.13958265, 0.28901755,\n",
      "       0.32439949, 0.82964771, 0.25031802, 0.10267357, 0.82617392,\n",
      "       0.80806329, 0.79627021, 0.51512593, 0.49631206, 0.4149233 ,\n",
      "       0.11727672, 0.98670452, 0.39380553, 0.97998152, 0.04879224,\n",
      "       0.07328674, 0.34533913, 0.40821648, 0.50584953, 0.08512789,\n",
      "       0.14583625, 0.94631064, 0.75248548, 0.76542865, 0.50110762,\n",
      "       0.95934052, 0.66731499, 0.30605845, 0.10275131, 0.32260579,\n",
      "       0.84838691, 0.96843131, 0.89757983, 0.58938376, 0.72329687,\n",
      "       0.17200498, 0.37428408, 0.04819547, 0.76972931, 0.83402772,\n",
      "       0.35503819, 0.0030023 , 0.84648884, 0.90124012, 0.9545619 ,\n",
      "       0.8856969 , 0.15388371, 0.15725471, 0.47869752, 0.63616584,\n",
      "       0.1820192 , 0.25434473, 0.94985711, 0.14501826, 0.98648623,\n",
      "       0.5720565 , 0.09578321, 0.5115273 , 0.37662624, 0.83196282,\n",
      "       0.44588893, 0.00154097, 0.56564176, 0.46161325, 0.52789839,\n",
      "       0.45739394, 0.23380661, 0.53767296, 0.44140293, 0.80118337,\n",
      "       0.4954522 , 0.40953601, 0.65808344, 0.08688773, 0.86824657,\n",
      "       0.62385264, 0.5579513 , 0.77944837, 0.93309248, 0.34757664,\n",
      "       0.62299985, 0.59993314, 0.23709828, 0.51725182, 0.19589488,\n",
      "       0.16835174, 0.62100558, 0.45346584, 0.14728927, 0.12442296,\n",
      "       0.97084583, 0.88696743, 0.71547438, 0.18311995, 0.60509043,\n",
      "       0.60945895, 0.82574825, 0.1310315 , 0.84582653, 0.4032879 ,\n",
      "       0.1987616 , 0.82823939, 0.25905808, 0.74013751, 0.53398935,\n",
      "       0.52723253, 0.4296322 , 0.37352778, 0.02681135, 0.96239646,\n",
      "       0.07102954, 0.14067876, 0.28138198, 0.6581151 , 0.79249453,\n",
      "       0.48479364, 0.03470451, 0.92590403, 0.24978088, 0.97665344,\n",
      "       0.48110108, 0.60760538, 0.14860401, 0.69051429, 0.82297266,\n",
      "       0.90924968, 0.71812986, 0.1887913 , 0.50014719, 0.83589093,\n",
      "       0.27098321, 0.50311164, 0.74953321, 0.6504164 , 0.40632247,\n",
      "       0.46117242, 0.67892968, 0.94787812, 0.10027997, 0.68406028,\n",
      "       0.10137841, 0.00958626, 0.23034095, 0.76906327, 0.97671354,\n",
      "       0.78574644, 0.26478229, 0.40644964, 0.58464626, 0.30325527,\n",
      "       0.16866223, 0.70613809, 0.78294462, 0.34003422, 0.32245141,\n",
      "       0.79011051, 0.39776128, 0.49091629, 0.58238332, 0.1943633 ,\n",
      "       0.50716188, 0.55920765, 0.8241915 , 0.54654515, 0.72136556,\n",
      "       0.59224061, 0.11066411, 0.32557475, 0.68580603, 0.282706  ,\n",
      "       0.69202035, 0.18740919, 0.34290592, 0.40114264, 0.18527173,\n",
      "       0.07717827, 0.28508171, 0.31304653, 0.01913327, 0.93072017,\n",
      "       0.96859529, 0.92356131, 0.27689497, 0.55967423, 0.41011054,\n",
      "       0.2473716 , 0.81258923, 0.17715952, 0.92672026, 0.10252539,\n",
      "       0.89181414, 0.09323202, 0.73019851, 0.21596643, 0.78639545,\n",
      "       0.72731039, 0.96471402, 0.1450614 , 0.54979145, 0.79523416,\n",
      "       0.33420737, 0.01047857, 0.56889508, 0.08793048, 0.41330874,\n",
      "       0.58037573, 0.74426496, 0.43143792, 0.88619197, 0.99338576,\n",
      "       0.65786503, 0.23983446, 0.22011504, 0.47254204, 0.50177723,\n",
      "       0.44441816, 0.8007973 , 0.03031073, 0.11244298, 0.1061025 ,\n",
      "       0.1175754 , 0.53200908, 0.81198811, 0.85000544, 0.08917233,\n",
      "       0.74244651, 0.20013725, 0.84239076, 0.6902048 , 0.39619737,\n",
      "       0.93795157, 0.35280388, 0.11019971, 0.79168056, 0.78822032,\n",
      "       0.91296911, 0.87640807, 0.0512354 , 0.48438494, 0.44387802,\n",
      "       0.88545947, 0.43130088, 0.33603902, 0.0147512 , 0.73493463,\n",
      "       0.29416145, 0.46405419, 0.20097842, 0.34989633, 0.23840082,\n",
      "       0.04740163, 0.70154044, 0.48057389, 0.58775729, 0.00869829,\n",
      "       0.34291287, 0.50634805, 0.71881674, 0.66506062, 0.16391882,\n",
      "       0.44249076, 0.67696788, 0.61263239, 0.44248587, 0.58936384,\n",
      "       0.5190734 , 0.48002374, 0.41827432, 0.2535313 , 0.60312666,\n",
      "       0.50278278, 0.00688979, 0.75550677, 0.61650431, 0.63143672,\n",
      "       0.99148227, 0.03276068, 0.22105925, 0.03996853, 0.60980036,\n",
      "       0.60252704, 0.86896766, 0.06242584, 0.91870182])]\n"
     ]
    }
   ],
   "source": [
    "# storing remaining 500 in vector y\n",
    "\n",
    "y=mylist[501:1000]\n",
    "print([y])"
   ]
  },
  {
   "cell_type": "code",
   "execution_count": 4,
   "id": "621e287f",
   "metadata": {},
   "outputs": [
    {
     "ename": "TypeError",
     "evalue": "can't multiply sequence by non-int of type 'list'",
     "output_type": "error",
     "traceback": [
      "\u001b[1;31m---------------------------------------------------------------------------\u001b[0m",
      "\u001b[1;31mTypeError\u001b[0m                                 Traceback (most recent call last)",
      "\u001b[1;32m<ipython-input-4-e69859793d13>\u001b[0m in \u001b[0;36m<module>\u001b[1;34m\u001b[0m\n\u001b[1;32m----> 1\u001b[1;33m \u001b[0mz\u001b[0m\u001b[1;33m=\u001b[0m\u001b[0mx\u001b[0m\u001b[1;33m*\u001b[0m\u001b[1;33m(\u001b[0m\u001b[0mx\u001b[0m\u001b[1;33m+\u001b[0m\u001b[0my\u001b[0m\u001b[1;33m)\u001b[0m\u001b[1;33m\u001b[0m\u001b[1;33m\u001b[0m\u001b[0m\n\u001b[0m\u001b[0;32m      2\u001b[0m \u001b[0mprint\u001b[0m\u001b[1;33m(\u001b[0m\u001b[0mz\u001b[0m\u001b[1;33m)\u001b[0m\u001b[1;33m\u001b[0m\u001b[1;33m\u001b[0m\u001b[0m\n",
      "\u001b[1;31mTypeError\u001b[0m: can't multiply sequence by non-int of type 'list'"
     ]
    }
   ],
   "source": [
    "z=x*(x+y)\n",
    "print(z)"
   ]
  },
  {
   "cell_type": "markdown",
   "id": "bd77a5aa",
   "metadata": {},
   "source": [
    "# question 6/ program"
   ]
  },
  {
   "cell_type": "code",
   "execution_count": 21,
   "id": "87d6394f",
   "metadata": {},
   "outputs": [
    {
     "data": {
      "image/png": "[encoded data removed]",
      "text/plain": [
       "<Figure size 432x288 with 1 Axes>"
      ]
     },
     "metadata": {
      "needs_background": "light"
     },
     "output_type": "display_data"
    }
   ],
   "source": [
    "import pandas as pd\n",
    "from matplotlib import pyplot as plt\n",
    "x=[1,-2,4]\n",
    "y=[-3,2,4]\n",
    "plt.scatter(x,y)\n",
    "plt.tight_layout()\n",
    "plt.show()"
   ]
  },
  {
   "cell_type": "code",
   "execution_count": null,
   "id": "9662dd39",
   "metadata": {},
   "outputs": [],
   "source": []
  },
  {
   "cell_type": "code",
   "execution_count": null,
   "id": "f7beed0e",
   "metadata": {},
   "outputs": [],
   "source": []
  }
 ],
 "metadata": {
  "kernelspec": {
   "display_name": "Python 3",
   "language": "python",
   "name": "python3"
  },
  "language_info": {
   "codemirror_mode": {
    "name": "ipython",
    "version": 3
   },
   "file_extension": ".py",
   "mimetype": "text/x-python",
   "name": "python",
   "nbconvert_exporter": "python",
   "pygments_lexer": "ipython3",
   "version": "3.8.8"
  }
 },
 "nbformat": 4,
 "nbformat_minor": 5
}
