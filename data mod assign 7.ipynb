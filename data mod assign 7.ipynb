{
 "cells": [
  {
   "cell_type": "markdown",
   "id": "24ec2c35",
   "metadata": {},
   "source": [
    "# AJAY KUMAR (DATA MOD ASSIGNMENT 7)"
   ]
  },
  {
   "cell_type": "markdown",
   "id": "4cd3defa",
   "metadata": {},
   "source": [
    "# Create a GUI that has the following provisions:"
   ]
  },
  {
   "cell_type": "markdown",
   "id": "d853dae8",
   "metadata": {},
   "source": [
    "# (a) A menu that displays all the question numbers related with Data Modeling Lab 1 Assignment 5"
   ]
  },
  {
   "cell_type": "code",
   "execution_count": 1,
   "id": "69b52604",
   "metadata": {},
   "outputs": [],
   "source": [
    "import ipywidgets as widgets\n",
    "from IPython.display import display\n",
    "import datetime"
   ]
  },
  {
   "cell_type": "code",
   "execution_count": 2,
   "id": "d0086c40",
   "metadata": {},
   "outputs": [
    {
     "data": {
      "application/vnd.jupyter.widget-view+json": {
       "model_id": "c05f24d28e6749df94c1cb683971c1ac",
       "version_major": 2,
       "version_minor": 0
      },
      "text/plain": [
       "ToggleButtons(button_style='success', description='DATA MODELING ASSIGNMENT 5 : ', options=('Question 1', 'Que…"
      ]
     },
     "metadata": {},
     "output_type": "display_data"
    }
   ],
   "source": [
    "widgets.ToggleButtons(\n",
    "    options=['Question 1','Question 2', 'Question 3','Question 4','Question 5','Question 6','Question 7','Question 8','Question 9'],\n",
    "    description='DATA MODELING ASSIGNMENT 5 : ',\n",
    "    disabled=False,\n",
    "    button_style='success', # 'success', 'info', 'warning', 'danger' or ''\n",
    "    tooltips=['Description of slow', 'Description of regular', 'Description of fast'],\n",
    "    # icons=['check'] * 3\n",
    ")"
   ]
  },
  {
   "cell_type": "markdown",
   "id": "07acdc96",
   "metadata": {},
   "source": [
    "# (b) When a particular question number is selected, the corresponding answer should be displayed"
   ]
  },
  {
   "cell_type": "code",
   "execution_count": 3,
   "id": "934d586b",
   "metadata": {},
   "outputs": [
    {
     "data": {
      "application/vnd.jupyter.widget-view+json": {
       "model_id": "8c1864a3faab447586a12ae74379a7ce",
       "version_major": 2,
       "version_minor": 0
      },
      "text/plain": [
       "Button(description='Question 1', style=ButtonStyle(button_color='lightgreen'))"
      ]
     },
     "metadata": {},
     "output_type": "display_data"
    },
    {
     "data": {
      "application/vnd.jupyter.widget-view+json": {
       "model_id": "1aea9f0c2d9243b2affa3ac16194c3e9",
       "version_major": 2,
       "version_minor": 0
      },
      "text/plain": [
       "Button(description='Question 2', style=ButtonStyle(button_color='lightgreen'))"
      ]
     },
     "metadata": {},
     "output_type": "display_data"
    },
    {
     "data": {
      "application/vnd.jupyter.widget-view+json": {
       "model_id": "7558357d56794d2c83690204797ef5d1",
       "version_major": 2,
       "version_minor": 0
      },
      "text/plain": [
       "Button(description='Question 3', style=ButtonStyle(button_color='lightgreen'))"
      ]
     },
     "metadata": {},
     "output_type": "display_data"
    },
    {
     "data": {
      "application/vnd.jupyter.widget-view+json": {
       "model_id": "cf3b2cb57f454f398fcc7d74e921d2d2",
       "version_major": 2,
       "version_minor": 0
      },
      "text/plain": [
       "Button(description='Question 4', style=ButtonStyle(button_color='lightgreen'))"
      ]
     },
     "metadata": {},
     "output_type": "display_data"
    },
    {
     "data": {
      "application/vnd.jupyter.widget-view+json": {
       "model_id": "53e2a0d457ce48bd9cb60078c75edd02",
       "version_major": 2,
       "version_minor": 0
      },
      "text/plain": [
       "Button(description='Question 5', style=ButtonStyle(button_color='lightgreen'))"
      ]
     },
     "metadata": {},
     "output_type": "display_data"
    },
    {
     "data": {
      "application/vnd.jupyter.widget-view+json": {
       "model_id": "b57eef92ae584658a8b6052861308ad5",
       "version_major": 2,
       "version_minor": 0
      },
      "text/plain": [
       "Button(description='Question 6', style=ButtonStyle(button_color='lightgreen'))"
      ]
     },
     "metadata": {},
     "output_type": "display_data"
    },
    {
     "data": {
      "application/vnd.jupyter.widget-view+json": {
       "model_id": "dcd1ffb7e4d8441bac5985d4805aae44",
       "version_major": 2,
       "version_minor": 0
      },
      "text/plain": [
       "Button(description='Question 7', style=ButtonStyle(button_color='lightgreen'))"
      ]
     },
     "metadata": {},
     "output_type": "display_data"
    },
    {
     "data": {
      "application/vnd.jupyter.widget-view+json": {
       "model_id": "fdcf169915d04e92bfc7280d5f47b9ad",
       "version_major": 2,
       "version_minor": 0
      },
      "text/plain": [
       "Button(description='Question 8', style=ButtonStyle(button_color='lightgreen'))"
      ]
     },
     "metadata": {},
     "output_type": "display_data"
    },
    {
     "data": {
      "application/vnd.jupyter.widget-view+json": {
       "model_id": "10db8010de964f52b37859cfb028fbe0",
       "version_major": 2,
       "version_minor": 0
      },
      "text/plain": [
       "Button(description='Question 9', style=ButtonStyle(button_color='lightgreen'))"
      ]
     },
     "metadata": {},
     "output_type": "display_data"
    },
    {
     "name": "stdout",
     "output_type": "stream",
     "text": [
      "Question 1 solution is : \n",
      " (b) now = 2021-11-22 20:17:10.367245 \n",
      "date and time = 22/11/2021 20:17:10\n",
      "(c) Monday\n",
      "Question 2 solution is : \n",
      " The current working directory is hp\n",
      " the 2021 calendar is : \n",
      "    October 2021\n",
      "Mo Tu We Th Fr Sa Su\n",
      "             1  2  3\n",
      " 4  5  6  7  8  9 10\n",
      "11 12 13 14 15 16 17\n",
      "18 19 20 21 22 23 24\n",
      "25 26 27 28 29 30 31\n",
      "\n",
      "The file  is created\n",
      "Attribute 1     Height\n",
      "Attribute 2     Weight\n",
      "Attribute 3     Colour\n",
      "Attribute 4    Density\n",
      "dtype: object\n"
     ]
    }
   ],
   "source": [
    "from IPython.display import display\n",
    "button = widgets.Button(description=\"Question 1\")\n",
    "button.style.button_color = 'lightgreen'\n",
    "display(button)\n",
    "\n",
    "def on_button_clicked(b):\n",
    "    print(\"Question 1 solution is : \")\n",
    "    print(\" (b) now = 2021-11-22 20:17:10.367245 \\ndate and time = 22/11/2021 20:17:10\")\n",
    "    print(\"(c) Monday\")\n",
    "    \n",
    "button.on_click(on_button_clicked)\n",
    "\n",
    "\n",
    "from IPython.display import display\n",
    "button = widgets.Button(description=\"Question 2\")\n",
    "button.style.button_color = 'lightgreen'\n",
    "display(button)\n",
    "\n",
    "def on_button_clicked(b):\n",
    "    print(\"Question 2 solution is : \")\n",
    "    print(\"System: Windows \\nLaptop Model Name: LAPTOP-Q15KKAPI \\nRelease: 10 \\nVersion: 10.0.22000 \\nMachine: AMD64\")\n",
    "    print(\"Processor: Intel64 Family 6 Model 142 Stepping 12, GenuineIntel\")\n",
    "\n",
    "button.on_click(on_button_clicked)\n",
    "\n",
    "from IPython.display import display\n",
    "button = widgets.Button(description=\"Question 3\")\n",
    "button.style.button_color = 'lightgreen'\n",
    "display(button)\n",
    "\n",
    "def on_button_clicked(b):\n",
    "    print(\"Question 2 solution is : \")\n",
    "    print(\"Folder f1 has been created \")\n",
    "\n",
    "button.on_click(on_button_clicked)\n",
    "\n",
    "from IPython.display import display\n",
    "button = widgets.Button(description=\"Question 4\")\n",
    "button.style.button_color = 'lightgreen'\n",
    "display(button)\n",
    "\n",
    "def on_button_clicked(b):\n",
    "    print(\"Question 2 solution is : \")\n",
    "    print(\"(a) ['Apple', 'Orange', 20, 40]\")\n",
    "    print(\"(b) ([5, 'Apple', 'Orange', 20, 40]\")\n",
    "\n",
    "button.on_click(on_button_clicked)\n",
    "\n",
    "from IPython.display import display\n",
    "button = widgets.Button(description=\"Question 5\")\n",
    "button.style.button_color = 'lightgreen'\n",
    "display(button)\n",
    "\n",
    "def on_button_clicked(b):\n",
    "    print(\"Question 2 solution is : \")\n",
    "    print(\" The current working directory is hp\")\n",
    "\n",
    "button.on_click(on_button_clicked)\n",
    "\n",
    "from IPython.display import display\n",
    "import calendar\n",
    "button = widgets.Button(description=\"Question 6\")\n",
    "button.style.button_color = 'lightgreen'\n",
    "display(button)\n",
    "\n",
    "def on_button_clicked(b):\n",
    "    print(\" the 2021 calendar is : \")\n",
    "    y = 2021\n",
    "    m = 10\n",
    "    print(calendar.month(y, m))\n",
    "\n",
    "button.on_click(on_button_clicked)\n",
    "\n",
    "from IPython.display import display\n",
    "button = widgets.Button(description=\"Question 7\")\n",
    "button.style.button_color = 'lightgreen'\n",
    "display(button)\n",
    "\n",
    "def on_button_clicked(b):\n",
    "    print(\" The host is \\n'LAPTOP-Q15KKAPI'\")\n",
    "\n",
    "\n",
    "button.on_click(on_button_clicked)\n",
    "\n",
    "\n",
    "from IPython.display import display\n",
    "button = widgets.Button(description=\"Question 8\")\n",
    "button.style.button_color = 'lightgreen'\n",
    "display(button)\n",
    "\n",
    "def on_button_clicked(b):\n",
    "    print(\"The file  is created\")\n",
    "\n",
    "button.on_click(on_button_clicked)\n",
    "\n",
    "\n",
    "from IPython.display import display\n",
    "import pandas as pd\n",
    "button = widgets.Button(description=\"Question 9\")\n",
    "button.style.button_color = 'lightgreen'\n",
    "display(button)\n",
    "\n",
    "def on_button_clicked(b):\n",
    "    dictionary={'Attribute 1':'Height','Attribute 2':'Weight','Attribute 3':'Colour','Attribute 4':'Density'}\n",
    "    dic=pd.Series(dictionary)\n",
    "    print(dic)\n",
    "\n",
    "button.on_click(on_button_clicked)"
   ]
  },
  {
   "cell_type": "code",
   "execution_count": null,
   "id": "dcd812cc",
   "metadata": {},
   "outputs": [],
   "source": []
  }
 ],
 "metadata": {
  "kernelspec": {
   "display_name": "Python 3",
   "language": "python",
   "name": "python3"
  },
  "language_info": {
   "codemirror_mode": {
    "name": "ipython",
    "version": 3
   },
   "file_extension": ".py",
   "mimetype": "text/x-python",
   "name": "python",
   "nbconvert_exporter": "python",
   "pygments_lexer": "ipython3",
   "version": "3.8.8"
  }
 },
 "nbformat": 4,
 "nbformat_minor": 5
}
