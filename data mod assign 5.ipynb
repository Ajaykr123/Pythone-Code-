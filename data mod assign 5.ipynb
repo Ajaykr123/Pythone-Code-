{
 "cells": [
  {
   "cell_type": "markdown",
   "id": "f2c97af2",
   "metadata": {},
   "source": [
    "# AJAY KUMAR - DATA MODLING ASSIGNMENT 5"
   ]
  },
  {
   "cell_type": "markdown",
   "id": "d555aa40",
   "metadata": {},
   "source": [
    "# Question 1 / program"
   ]
  },
  {
   "cell_type": "markdown",
   "id": "be9a40af",
   "metadata": {},
   "source": [
    "1. Write a function that perform the following task: Display a screen with the following\n",
    "contents: (a) IIST logo and name: ”IIST”, (b) current time and current date (c)\n",
    "name of the current day of the week."
   ]
  },
  {
   "cell_type": "code",
   "execution_count": 1,
   "id": "195ec4c3",
   "metadata": {},
   "outputs": [],
   "source": [
    "# IIST LOGO\n",
    "\n",
    "from IPython.display import Image"
   ]
  },
  {
   "cell_type": "code",
   "execution_count": 2,
   "id": "f49270a3",
   "metadata": {},
   "outputs": [],
   "source": [
    "imname=['C:/Users/hp/Downloads/IISTLOGO.jpg']"
   ]
  },
  {
   "cell_type": "code",
   "execution_count": 3,
   "id": "d878f3bd",
   "metadata": {},
   "outputs": [
    {
     "data": {
      "image/jpeg": "[encoded data removed]",
      "text/plain": [
       "<IPython.core.display.Image object>"
      ]
     },
     "metadata": {},
     "output_type": "display_data"
    }
   ],
   "source": [
    "for img in imname:\n",
    "    display(Image(img))\n",
    "    \n"
   ]
  },
  {
   "cell_type": "code",
   "execution_count": 4,
   "id": "94c505a5",
   "metadata": {},
   "outputs": [
    {
     "name": "stdout",
     "output_type": "stream",
     "text": [
      "now = 2021-12-06 20:39:13.886025\n",
      "date and time = 06/12/2021 20:39:13\n"
     ]
    }
   ],
   "source": [
    "# (b) current time and current date\n",
    "\n",
    "\n",
    "from datetime import datetime\n",
    "\n",
    "# datetime object containing current date and time\n",
    "now = datetime.now()\n",
    " \n",
    "print(\"now =\", now)\n",
    "\n",
    "# dd/mm/YY H:M:S\n",
    "dt_string = now.strftime(\"%d/%m/%Y %H:%M:%S\")\n",
    "print(\"date and time =\", dt_string)"
   ]
  },
  {
   "cell_type": "code",
   "execution_count": 5,
   "id": "3cb8bb78",
   "metadata": {},
   "outputs": [
    {
     "name": "stdout",
     "output_type": "stream",
     "text": [
      "Monday\n"
     ]
    }
   ],
   "source": [
    "# (c) name of the current day of the week.\n",
    "\n",
    "from datetime import date\n",
    "import calendar\n",
    "curr_date = date.today()\n",
    "print(calendar.day_name[curr_date.weekday()])"
   ]
  },
  {
   "cell_type": "markdown",
   "id": "df3810a2",
   "metadata": {},
   "source": [
    "# Question 2 / program"
   ]
  },
  {
   "cell_type": "markdown",
   "id": "066956e8",
   "metadata": {},
   "source": [
    "2.Write a function that display the name of the operating system you are using and\n",
    "its related information"
   ]
  },
  {
   "cell_type": "code",
   "execution_count": 6,
   "id": "2aa4024f",
   "metadata": {},
   "outputs": [],
   "source": [
    "import platform"
   ]
  },
  {
   "cell_type": "code",
   "execution_count": 7,
   "id": "95be4b56",
   "metadata": {},
   "outputs": [],
   "source": [
    "my_system = platform.uname()"
   ]
  },
  {
   "cell_type": "code",
   "execution_count": 8,
   "id": "6bd6ff0a",
   "metadata": {},
   "outputs": [
    {
     "name": "stdout",
     "output_type": "stream",
     "text": [
      "System: Windows\n",
      "Laptop Model Name: LAPTOP-Q15KKAPI\n",
      "Release: 10\n",
      "Version: 10.0.22000\n",
      "Machine: AMD64\n",
      "Processor: Intel64 Family 6 Model 142 Stepping 12, GenuineIntel\n"
     ]
    }
   ],
   "source": [
    "print(f\"System: {my_system.system}\")\n",
    "print(f\"Laptop Model Name: {my_system.node}\")\n",
    "print(f\"Release: {my_system.release}\")\n",
    "print(f\"Version: {my_system.version}\")\n",
    "print(f\"Machine: {my_system.machine}\")\n",
    "print(f\"Processor: {my_system.processor}\")"
   ]
  },
  {
   "cell_type": "markdown",
   "id": "ac5d17e6",
   "metadata": {},
   "source": [
    "# Question 3 / program"
   ]
  },
  {
   "cell_type": "markdown",
   "id": "de723e5f",
   "metadata": {},
   "source": [
    "3. Write a function that perform the following task: Create a folder f1 in the current\n",
    "directory. Inside f1 create five folders and five files. Inside those five folders create\n",
    "3 folders and 6 files. Display the names of the all the contents created inside f1."
   ]
  },
  {
   "cell_type": "code",
   "execution_count": 9,
   "id": "42331206",
   "metadata": {},
   "outputs": [],
   "source": [
    "import os"
   ]
  },
  {
   "cell_type": "code",
   "execution_count": 11,
   "id": "73a71156",
   "metadata": {},
   "outputs": [],
   "source": [
    "# Create a folder f1 in the current directory\n",
    "\n",
    "os.mkdir('mr.bhardwaj')"
   ]
  },
  {
   "cell_type": "code",
   "execution_count": 12,
   "id": "d70dbf86",
   "metadata": {},
   "outputs": [],
   "source": [
    "# Create five folder f1 in the current directory\n",
    "\n",
    "root_path = \"C:/Users/hp/mr.bhardwaj\"\n",
    "lis = ['fol1','fol2','fol3','fol4','fol5']\n",
    "for items in lis:\n",
    "    path = os.path.join(root_path, items)\n",
    "    os.mkdir(path)\n",
    "    "
   ]
  },
  {
   "cell_type": "code",
   "execution_count": 13,
   "id": "b2428cd5",
   "metadata": {},
   "outputs": [],
   "source": [
    "# Inside those five folders create 3 folders\n",
    "\n",
    "import os\n",
    "from functools import partial"
   ]
  },
  {
   "cell_type": "code",
   "execution_count": 14,
   "id": "14459b24",
   "metadata": {},
   "outputs": [
    {
     "ename": "FileExistsError",
     "evalue": "[WinError 183] Cannot create a file when that file already exists: 'C:/Users/hp/f1/fol1\\\\sub_1'",
     "output_type": "error",
     "traceback": [
      "\u001b[1;31m---------------------------------------------------------------------------\u001b[0m",
      "\u001b[1;31mFileExistsError\u001b[0m                           Traceback (most recent call last)",
      "\u001b[1;32m<ipython-input-14-9e438825d0e6>\u001b[0m in \u001b[0;36m<module>\u001b[1;34m\u001b[0m\n\u001b[0;32m      3\u001b[0m \u001b[1;32mfor\u001b[0m \u001b[0mitems\u001b[0m \u001b[1;32min\u001b[0m \u001b[0mlis\u001b[0m\u001b[1;33m:\u001b[0m\u001b[1;33m\u001b[0m\u001b[1;33m\u001b[0m\u001b[0m\n\u001b[0;32m      4\u001b[0m     \u001b[0mpath\u001b[0m \u001b[1;33m=\u001b[0m \u001b[0mos\u001b[0m\u001b[1;33m.\u001b[0m\u001b[0mpath\u001b[0m\u001b[1;33m.\u001b[0m\u001b[0mjoin\u001b[0m\u001b[1;33m(\u001b[0m\u001b[0mroot_path\u001b[0m\u001b[1;33m,\u001b[0m \u001b[0mitems\u001b[0m\u001b[1;33m)\u001b[0m\u001b[1;33m\u001b[0m\u001b[1;33m\u001b[0m\u001b[0m\n\u001b[1;32m----> 5\u001b[1;33m     \u001b[0mos\u001b[0m\u001b[1;33m.\u001b[0m\u001b[0mmkdir\u001b[0m\u001b[1;33m(\u001b[0m\u001b[0mpath\u001b[0m\u001b[1;33m)\u001b[0m\u001b[1;33m\u001b[0m\u001b[1;33m\u001b[0m\u001b[0m\n\u001b[0m\u001b[0;32m      6\u001b[0m \u001b[0mroot_path\u001b[0m \u001b[1;33m=\u001b[0m \u001b[1;34m\"C:/Users/hp/f1/fol2\"\u001b[0m\u001b[1;33m\u001b[0m\u001b[1;33m\u001b[0m\u001b[0m\n\u001b[0;32m      7\u001b[0m \u001b[0mlis\u001b[0m \u001b[1;33m=\u001b[0m \u001b[1;33m[\u001b[0m\u001b[1;34m'sub_1'\u001b[0m\u001b[1;33m,\u001b[0m\u001b[1;34m'sub_2'\u001b[0m\u001b[1;33m,\u001b[0m\u001b[1;34m'sub_3'\u001b[0m\u001b[1;33m]\u001b[0m\u001b[1;33m\u001b[0m\u001b[1;33m\u001b[0m\u001b[0m\n",
      "\u001b[1;31mFileExistsError\u001b[0m: [WinError 183] Cannot create a file when that file already exists: 'C:/Users/hp/f1/fol1\\\\sub_1'"
     ]
    }
   ],
   "source": [
    "root_path = \"C:/Users/hp/f1/fol1\"\n",
    "lis = ['sub_1','sub_2','sub_3']\n",
    "for items in lis:\n",
    "    path = os.path.join(root_path, items)\n",
    "    os.mkdir(path)\n",
    "root_path = \"C:/Users/hp/f1/fol2\"\n",
    "lis = ['sub_1','sub_2','sub_3']\n",
    "for items in lis:\n",
    "    path = os.path.join(root_path, items)\n",
    "    os.mkdir(path)\n",
    "root_path = \"C:/Users/hp/f1/fol3\"\n",
    "lis = ['sub_1','sub_2','sub_3']\n",
    "for items in lis:\n",
    "    path = os.path.join(root_path, items)\n",
    "    os.mkdir(path)\n",
    "root_path = \"C:/Users/hp/f1/fol4\"\n",
    "lis = ['sub_1','sub_2','sub_3']\n",
    "for items in lis:\n",
    "    path = os.path.join(root_path, items)\n",
    "    os.mkdir(path)\n",
    "root_path = \"C:/Users/hp/f1/fol5\"\n",
    "lis = ['sub_1','sub_2','sub_3']\n",
    "for items in lis:\n",
    "    path = os.path.join(root_path, items)\n",
    "    os.mkdir(path)"
   ]
  },
  {
   "cell_type": "markdown",
   "id": "91d1c55a",
   "metadata": {},
   "source": [
    "# Question 4 / program"
   ]
  },
  {
   "cell_type": "markdown",
   "id": "c337d636",
   "metadata": {},
   "source": [
    "4. Write a function for the following task:\n",
    "(a) Store the following items in a deque data structure: Apple, Orange, Lemon, 20,40\n",
    "(b) Add 5 in the beginning of deque.\n",
    "(c) Add Mango at the end of deque.\n",
    "(d) Reverse the order of deque."
   ]
  },
  {
   "cell_type": "code",
   "execution_count": 15,
   "id": "e4ffcccc",
   "metadata": {},
   "outputs": [],
   "source": [
    "from collections import deque"
   ]
  },
  {
   "cell_type": "code",
   "execution_count": 16,
   "id": "4a92e86e",
   "metadata": {},
   "outputs": [
    {
     "name": "stdout",
     "output_type": "stream",
     "text": [
      "deque(['Apple', 'Orange', 20, 40])\n"
     ]
    }
   ],
   "source": [
    "#  (a) Store the following items in a deque data structure: Apple, Orange, Lemon, 20,40 \n",
    "\n",
    "itm = deque(['Apple','Orange',20,40])\n",
    "print(itm)"
   ]
  },
  {
   "cell_type": "code",
   "execution_count": 17,
   "id": "c480c8ff",
   "metadata": {},
   "outputs": [
    {
     "name": "stdout",
     "output_type": "stream",
     "text": [
      "deque([5, 'Apple', 'Orange', 20, 40])\n"
     ]
    }
   ],
   "source": [
    "# (b) Add 5 in the beginning of deque.\n",
    "\n",
    "itm.appendleft(5)\n",
    "print(itm)"
   ]
  },
  {
   "cell_type": "code",
   "execution_count": 18,
   "id": "2e11e05a",
   "metadata": {},
   "outputs": [
    {
     "name": "stdout",
     "output_type": "stream",
     "text": [
      "deque([5, 'Apple', 'Orange', 20, 40, 'Mango'])\n"
     ]
    }
   ],
   "source": [
    "# (c) Add Mango at the end of deque.\n",
    "\n",
    "itm.append('Mango')\n",
    "print(itm)"
   ]
  },
  {
   "cell_type": "code",
   "execution_count": 19,
   "id": "cdf32e4c",
   "metadata": {},
   "outputs": [
    {
     "name": "stdout",
     "output_type": "stream",
     "text": [
      "deque(['Mango', 40, 20, 'Orange', 'Apple', 5])\n"
     ]
    }
   ],
   "source": [
    "# (d) Reverse the order of deque.\n",
    "\n",
    "itm.reverse()\n",
    "print(itm)"
   ]
  },
  {
   "cell_type": "markdown",
   "id": "0625157b",
   "metadata": {},
   "source": [
    "# Question 5 /program"
   ]
  },
  {
   "cell_type": "markdown",
   "id": "9178eafe",
   "metadata": {},
   "source": [
    "5. Write a function to print (a) path of the current directory (b) subdirectories in a\n",
    "given directory."
   ]
  },
  {
   "cell_type": "code",
   "execution_count": 20,
   "id": "19fd6eaf",
   "metadata": {},
   "outputs": [
    {
     "name": "stdout",
     "output_type": "stream",
     "text": [
      "The current working directory is C:/Users/hp/f1/fol1\\sub_1\n"
     ]
    }
   ],
   "source": [
    "# (a) path of the current directory\n",
    "\n",
    "import os\n",
    "print (\"The current working directory is %s\" % path)"
   ]
  },
  {
   "cell_type": "code",
   "execution_count": 21,
   "id": "ab23c8cc",
   "metadata": {},
   "outputs": [
    {
     "data": {
      "text/plain": [
       "['.ipynb_checkpoints', 'fol1', 'fol2', 'fol3', 'fol4', 'fol5']"
      ]
     },
     "execution_count": 21,
     "metadata": {},
     "output_type": "execute_result"
    }
   ],
   "source": [
    "# (b) subdirectories in a given directory.\n",
    "\n",
    "os.listdir(path='C:/Users/hp/f1')\n"
   ]
  },
  {
   "cell_type": "markdown",
   "id": "375780c0",
   "metadata": {},
   "source": [
    "# Question 6 /program"
   ]
  },
  {
   "cell_type": "markdown",
   "id": "e5858491",
   "metadata": {},
   "source": [
    "6. Write a function for the following task: Print the calender details of October 2021"
   ]
  },
  {
   "cell_type": "code",
   "execution_count": 22,
   "id": "489a80d3",
   "metadata": {},
   "outputs": [],
   "source": [
    "import calendar"
   ]
  },
  {
   "cell_type": "code",
   "execution_count": 23,
   "id": "dc339732",
   "metadata": {},
   "outputs": [
    {
     "name": "stdout",
     "output_type": "stream",
     "text": [
      "Enter the year : 2021\n",
      "Enter the month : 12\n",
      "   December 2021\n",
      "Mo Tu We Th Fr Sa Su\n",
      "       1  2  3  4  5\n",
      " 6  7  8  9 10 11 12\n",
      "13 14 15 16 17 18 19\n",
      "20 21 22 23 24 25 26\n",
      "27 28 29 30 31\n",
      "\n"
     ]
    }
   ],
   "source": [
    "y = int(input(\"Enter the year : \"))\n",
    "m = int(input(\"Enter the month : \"))\n",
    "print(calendar.month(y, m))"
   ]
  },
  {
   "cell_type": "markdown",
   "id": "e136a320",
   "metadata": {},
   "source": [
    "# Question 7 /program"
   ]
  },
  {
   "cell_type": "markdown",
   "id": "ffaa9b97",
   "metadata": {},
   "source": [
    "7. Write a program for the following tasks:\n",
    "(a) Connect a machine to a given host and port.\n",
    "(b) Read any available data from the socket and then exit.\n"
   ]
  },
  {
   "cell_type": "code",
   "execution_count": 24,
   "id": "45dd4a95",
   "metadata": {},
   "outputs": [],
   "source": [
    "import socket"
   ]
  },
  {
   "cell_type": "code",
   "execution_count": 25,
   "id": "fe5a56b2",
   "metadata": {},
   "outputs": [],
   "source": [
    "host = socket.gethostname()"
   ]
  },
  {
   "cell_type": "code",
   "execution_count": 26,
   "id": "5595bbb2",
   "metadata": {},
   "outputs": [
    {
     "data": {
      "text/plain": [
       "'LAPTOP-Q15KKAPI'"
      ]
     },
     "execution_count": 26,
     "metadata": {},
     "output_type": "execute_result"
    }
   ],
   "source": [
    "host"
   ]
  },
  {
   "cell_type": "code",
   "execution_count": 27,
   "id": "ed40fa7f",
   "metadata": {},
   "outputs": [],
   "source": [
    "import socket\n",
    "s = socket.socket(socket.AF_INET, socket.SOCK_STREAM)"
   ]
  },
  {
   "cell_type": "code",
   "execution_count": 28,
   "id": "b4cc0b6c",
   "metadata": {},
   "outputs": [
    {
     "name": "stdout",
     "output_type": "stream",
     "text": [
      "216.58.196.100\n"
     ]
    }
   ],
   "source": [
    "# (b) Read any available data from the socket and then exit.\n",
    "\n",
    "import socket\n",
    "s = socket.socket(socket.AF_INET, socket.SOCK_STREAM)\n",
    "\n",
    "ip = socket.gethostbyname('www.google.com')\n",
    "print(ip)"
   ]
  },
  {
   "cell_type": "markdown",
   "id": "f0ea8e64",
   "metadata": {},
   "source": [
    "# Question 8 /program"
   ]
  },
  {
   "cell_type": "markdown",
   "id": "61c06dc9",
   "metadata": {},
   "source": [
    "8. Write a program for the following tasks:"
   ]
  },
  {
   "cell_type": "code",
   "execution_count": 29,
   "id": "d2139495",
   "metadata": {},
   "outputs": [
    {
     "name": "stdout",
     "output_type": "stream",
     "text": [
      "Enter the file name : mr bhar\n"
     ]
    }
   ],
   "source": [
    "# (a) Ask the user to enter a name for creating a file. Using that name create a file in the current directory.\n",
    "\n",
    "import os\n",
    "file_name=input(\"Enter the file name : \")\n",
    "with open(file_name, 'w') as f:\n",
    "    f.write\n"
   ]
  },
  {
   "cell_type": "code",
   "execution_count": null,
   "id": "fbbc287b",
   "metadata": {},
   "outputs": [],
   "source": [
    "# (b) Ask the user to enter the details for storing in the file. Store those details in the file.\n",
    "\n",
    "import os \n",
    "details=input(\"Enter the details to add the files : \")\n",
    "with open('ham tumhare h sanam','w') as f:\n",
    "    f.write(details)\n"
   ]
  },
  {
   "cell_type": "code",
   "execution_count": null,
   "id": "a1ed0073",
   "metadata": {},
   "outputs": [],
   "source": [
    "# (c) Print the number of words in the file.\n",
    "\n",
    "file = open(\"C:/users/hp/ham tumhare h sanam\", \"rt\")\n",
    "data = file.read()\n",
    "words = data.split()\n",
    "\n",
    "print('Number of words in text file :', len(words))\n",
    "\n",
    "\n"
   ]
  },
  {
   "cell_type": "code",
   "execution_count": null,
   "id": "10269bc4",
   "metadata": {},
   "outputs": [],
   "source": [
    "# (d) Write the program using try-except syntax: Ask the user to enter an integer n.Read the nth line from the file.\n",
    "# Raise an error if line is not found\n",
    "\n",
    "file_ob = open('C:/users/hp/ham tumhare h sanam')\n",
    "n=int(input(\"Enter the line number : \"))\n",
    "for i, line in enumerate(file_ob):\n",
    "    if i+1 == n:\n",
    "        print(line)\n",
    "        break\n",
    "else:\n",
    "    print(\"Line is not found\")"
   ]
  },
  {
   "cell_type": "code",
   "execution_count": null,
   "id": "b634c66a",
   "metadata": {},
   "outputs": [],
   "source": [
    "# (e) Ask the user to enter a digit n. Print the first n lines from the file. Print the\n",
    "# last n lines of the file. Raise an error if lines are not found.\n",
    "\n",
    "with open(\"C:/users/hp/ham tumhare h sanam\", \"r\") as f:\n",
    "    n=int(input(\"Enter the number of line ,u want to print\"))\n",
    "    counter = 0\n",
    "    for line in f:\n",
    "        print(line)\n",
    "        counter += 1\n",
    "        if counter == n:\n",
    "            break\n",
    "    else:\n",
    "        print(\"DISCLAIMART:only 17 line is printed which are in files\")\n",
    "    \n",
    "\n"
   ]
  },
  {
   "cell_type": "code",
   "execution_count": null,
   "id": "7cf546cc",
   "metadata": {},
   "outputs": [],
   "source": [
    "# (f) Print the longest word in the file\n",
    "\n",
    "def longest_words(filename):\n",
    "    with open('C:/users/hp/ham tumhare h sanam', 'r') as infile:\n",
    "        words = infile.read().split()\n",
    "    max_len = len(max(words, key=len))\n",
    "    return [word for word in words if len(word) == max_len]\n",
    " \n",
    "print(longest_words('about.txt'))"
   ]
  },
  {
   "cell_type": "code",
   "execution_count": null,
   "id": "5f38559a",
   "metadata": {},
   "outputs": [],
   "source": [
    "# (g) Print all the lines in the file.\n",
    "\n",
    "\n",
    "file_ob = open('C:/users/hp/ham tumhare h sanam')\n",
    "\n",
    "for i, line in enumerate(file_ob):\n",
    "    print(line)\n",
    "        \n",
    "\n"
   ]
  },
  {
   "cell_type": "code",
   "execution_count": 18,
   "id": "0b67007b",
   "metadata": {},
   "outputs": [
    {
     "name": "stdout",
     "output_type": "stream",
     "text": [
      "Number of words in the file : Counter({'the': 13, 'in': 12, 'and': 11, 'of': 10, 'coronavirus': 5, 'is': 5, 'The': 4, 'COVID-19': 4, 'pandemic,': 4, 'pandemic': 4, 'virus': 4, 'to': 4, 'also': 3, 'by': 3, 'a': 3, 'can': 3, 'known': 2, 'as': 2, 'an': 2, 'ongoing': 2, 'global': 2, 'disease': 2, '2019': 2, '(COVID-19)': 2, 'caused': 2, 'severe': 2, 'Wuhan': 2, 'other': 2, 'it': 2, 'spread': 2, 'Health': 2, 'on': 2, 'variants': 2, 'have': 2, '2021,': 2, 'with': 2, 'more': 2, 'million': 2, 'Transmission': 2, 'when': 2, 'people': 2, 'contaminated': 2, 'acutThe': 1, 'acute': 1, 'respiratory': 1, 'syndrome': 1, '2': 1, '(SARS-CoV-2).': 1, 'novel': 1, 'was': 1, 'first': 1, 'identified': 1, 'Chinese': 1, 'city': 1, 'December': 1, '2019;': 1, 'lockdown': 1, 'cities': 1, 'surrounding': 1, 'Hubei': 1, 'failed': 1, 'contain': 1, 'outbreak,': 1, 'quickly': 1, 'parts': 1, 'mainland': 1, 'China': 1, 'around': 1, 'world.': 1, 'World': 1, 'Organization': 1, '(WHO)': 1, 'declared': 1, 'Public': 1, 'Emergency': 1, 'International': 1, 'Concern': 1, '30': 1, 'January': 1, '2020,': 1, '11': 1, 'March': 1, '2020.': 1, 'Multiple': 1, 'emerged': 1, 'become': 1, 'dominant': 1, 'many': 1, 'countries': 1, 'since': 1, 'Alpha,': 1, 'Beta,': 1, 'Gamma': 1, 'Delta': 1, 'being': 1, 'most': 1, 'virulent.': 1, 'As': 1, '21': 1, 'November': 1, 'than': 1, '257': 1, 'cases': 1, '5.15': 1, 'deaths': 1, 'been': 1, 'confirmed,': 1, 'making': 1, 'one': 1, 'deadliest': 1, 'history.': 1, 'u': 1, 'r': 1, 'beautiful': 1, 'tje': 1, 'world': 1, 'i': 1, 'will': 1, 'sucseede': 1, 'no': 1, 'hatter': 1, 'how': 1, 'long': 1, 'take': 1, 'time': 1, 'very': 1, 'simple': 1, 'symptoms': 1, 'range': 1, 'from': 1, 'none': 1, 'life-threatening.': 1, 'Severe': 1, 'illness': 1, 'likely': 1, 'elderly': 1, 'patients': 1, 'those': 1, 'certain': 1, 'underlying': 1, 'medical': 1, 'conditions.': 1, 'occurs': 1, 'breathe': 1, 'air': 1, 'droplets': 1, 'small': 1, 'airborne': 1, 'particles.': 1, 'risk': 1, 'breathing': 1, 'these': 1, 'highest': 1, 'are': 1, 'close': 1, 'proximity,': 1, 'but': 1, 'transmit': 1, 'over': 1, 'longer': 1, 'distances,': 1, 'particularly': 1, 'indoors': 1, 'poorly': 1, 'ventilated': 1, 'areas.': 1, 'occur,': 1, 'rarely,': 1, 'via': 1, 'surfaces': 1, 'or': 1, 'fluids.': 1, 'People': 1, 'remain': 1, 'contagious': 1, 'for': 1, 'up': 1, '20': 1, 'days,': 1, 'even': 1, 'if': 1, 'they': 1, 'do': 1, 'not': 1, 'develop': 1, 'symptoms.': 1})\n"
     ]
    }
   ],
   "source": [
    "# (h) Count the frequency of each word in the file.\n",
    "\n",
    "\n",
    "from collections import Counter\n",
    "def word_count(fname):\n",
    "        with open(fname) as f:\n",
    "                return Counter(f.read().split())\n",
    "\n",
    "print(\"Number of words in the file :\",word_count('C:/users/hp/ham tumhare h sanam'))\n"
   ]
  },
  {
   "cell_type": "code",
   "execution_count": null,
   "id": "c8f45f17",
   "metadata": {},
   "outputs": [],
   "source": [
    "# (i) Copy the contents of the file to another file\n",
    "\n",
    "with open('C:/users/hp/ham tumhare h sanam','r') as firstfile, open('C:/users/hp/dil h tumhara','a') as secondfile:\n",
    "      \n",
    "    # read content from first file\n",
    "    for line in firstfile:\n",
    "               \n",
    "             # append content to second file\n",
    "        secondfile.write(line)"
   ]
  },
  {
   "cell_type": "code",
   "execution_count": null,
   "id": "6bcc89f8",
   "metadata": {},
   "outputs": [],
   "source": [
    "# (j) Save the contents in the file in (a) an array (b) a list."
   ]
  },
  {
   "cell_type": "code",
   "execution_count": null,
   "id": "6a2f7cc7",
   "metadata": {},
   "outputs": [],
   "source": [
    "# (k) Write the syntax to close the file.\n",
    "\n",
    "file = open(\"C:/users/hp/dil h tumhara\")\n",
    "file.close()"
   ]
  },
  {
   "cell_type": "code",
   "execution_count": 28,
   "id": "8b6b25db",
   "metadata": {},
   "outputs": [],
   "source": []
  },
  {
   "cell_type": "markdown",
   "id": "8e845eb1",
   "metadata": {},
   "source": [
    "# Question 9/program"
   ]
  },
  {
   "cell_type": "markdown",
   "id": "bfe950c2",
   "metadata": {},
   "source": [
    "9. Perform the following tasks:"
   ]
  },
  {
   "cell_type": "markdown",
   "id": "16f73191",
   "metadata": {},
   "source": [
    "(a) Store the following in a dictionary: Attribute 1: Height, Attribute 2: Weight,\n",
    "Attribute 3: Colour, Attribute 4: Density. Create a panda series from the\n",
    "dictionary.\n"
   ]
  },
  {
   "cell_type": "code",
   "execution_count": 1,
   "id": "e0b0e48b",
   "metadata": {},
   "outputs": [],
   "source": [
    "dictionary={'Attribute 1':'Height','Attribute 2':'Weight','Attribute 3':'Colour','Attribute 4':'Density'}"
   ]
  },
  {
   "cell_type": "code",
   "execution_count": 2,
   "id": "6c6a7722",
   "metadata": {},
   "outputs": [
    {
     "name": "stdout",
     "output_type": "stream",
     "text": [
      "Attribute 1     Height\n",
      "Attribute 2     Weight\n",
      "Attribute 3     Colour\n",
      "Attribute 4    Density\n",
      "dtype: object\n"
     ]
    }
   ],
   "source": [
    "import pandas as pd\n",
    "ajay=pd.Series(dictionary)\n",
    "print(ajay)"
   ]
  },
  {
   "cell_type": "markdown",
   "id": "7dfa35ed",
   "metadata": {},
   "source": [
    "(b) Store the following in a list: 170, 70, Red, 32. Create a panda series from the\n",
    "list.\n"
   ]
  },
  {
   "cell_type": "code",
   "execution_count": 3,
   "id": "ab4c3c3d",
   "metadata": {},
   "outputs": [],
   "source": [
    "lst=[170,70,'Red',32]"
   ]
  },
  {
   "cell_type": "code",
   "execution_count": 4,
   "id": "4cd80aef",
   "metadata": {},
   "outputs": [
    {
     "name": "stdout",
     "output_type": "stream",
     "text": [
      "0    170\n",
      "1     70\n",
      "2    Red\n",
      "3     32\n",
      "dtype: object\n"
     ]
    }
   ],
   "source": [
    "aj=pd.Series(lst)\n",
    "print(aj)"
   ]
  },
  {
   "cell_type": "markdown",
   "id": "413ccf9f",
   "metadata": {},
   "source": [
    "(c) Create a DataFrame from the two panda series created"
   ]
  },
  {
   "cell_type": "code",
   "execution_count": 5,
   "id": "5c63eeda",
   "metadata": {},
   "outputs": [
    {
     "name": "stdout",
     "output_type": "stream",
     "text": [
      "  Attributes Criteriya\n",
      "0     Height       170\n",
      "1     Weight        70\n",
      "2     Colour       Red\n",
      "3    Density        32\n"
     ]
    }
   ],
   "source": [
    "a=pd.Series(['Height','Weight','Colour','Density'],name='Attributes')\n",
    "b=pd.Series([170,70,'Red',32],name='Criteriya')\n",
    "df=pd.merge(a,b,right_index=True,left_index=True)\n",
    "print(df)"
   ]
  },
  {
   "cell_type": "code",
   "execution_count": null,
   "id": "c9a18b04",
   "metadata": {},
   "outputs": [],
   "source": []
  }
 ],
 "metadata": {
  "kernelspec": {
   "display_name": "Python 3",
   "language": "python",
   "name": "python3"
  },
  "language_info": {
   "codemirror_mode": {
    "name": "ipython",
    "version": 3
   },
   "file_extension": ".py",
   "mimetype": "text/x-python",
   "name": "python",
   "nbconvert_exporter": "python",
   "pygments_lexer": "ipython3",
   "version": "3.8.8"
  }
 },
 "nbformat": 4,
 "nbformat_minor": 5
}
