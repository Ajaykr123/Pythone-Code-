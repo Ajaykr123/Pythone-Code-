{
 "cells": [
  {
   "cell_type": "markdown",
   "id": "a99a8311",
   "metadata": {},
   "source": [
    "# qustion 1/program"
   ]
  },
  {
   "cell_type": "code",
   "execution_count": 1,
   "id": "6a869558",
   "metadata": {},
   "outputs": [
    {
     "name": "stdout",
     "output_type": "stream",
     "text": [
      "1 ... 1\n",
      "2 ... 1\n",
      "3 ... 2\n",
      "4 ... 1\n",
      "5 ... 3\n",
      "6 ... 1\n",
      "8 ... 1\n",
      "0 ... 1\n",
      "10 ... 1\n"
     ]
    }
   ],
   "source": [
    "# to find freqency of each element in x\n",
    "\n",
    "\n",
    "x=[1,2,3,3,4,5,5,5,6,8,0,10]\n",
    "i=0\n",
    "for e in x:\n",
    "    if x.index(e)==i:\n",
    "      print(e,'...',x.count(e))\n",
    "    i=i+1\n",
    "        "
   ]
  },
  {
   "cell_type": "code",
   "execution_count": 2,
   "id": "c2f415d9",
   "metadata": {},
   "outputs": [
    {
     "name": "stdout",
     "output_type": "stream",
     "text": [
      "maximum element in x is 0 an minimum element in y is 10\n",
      "minimum element in x is 0\n"
     ]
    }
   ],
   "source": [
    "# to print maximum and minimum element of x\n",
    "\n",
    "x=[1,2,3,3,4,5,5,5,6,8,0,10]\n",
    "print('maximum element in x is {1} an minimum element in y is {0}'.format(max(x),min(x)))\n",
    "print('minimum element in x is {}'.format(min(x)))\n"
   ]
  },
  {
   "cell_type": "code",
   "execution_count": 3,
   "id": "0f1f156d",
   "metadata": {},
   "outputs": [
    {
     "name": "stdout",
     "output_type": "stream",
     "text": [
      "ascending order is [0, 1, 2, 3, 3, 4, 5, 5, 5, 6, 8, 10]\n",
      "descending order is [10, 8, 6, 5, 5, 5, 4, 3, 3, 2, 1, 0]\n"
     ]
    }
   ],
   "source": [
    "# to print ascending and descending order\n",
    "\n",
    "\n",
    "x=[1,2,3,3,4,5,5,5,6,8,0,10]\n",
    "x.sort()\n",
    "print('ascending order is',x)\n",
    "x.reverse()\n",
    "print('descending order is',x)"
   ]
  },
  {
   "cell_type": "markdown",
   "id": "595770f3",
   "metadata": {},
   "source": [
    "# question 2/ program"
   ]
  },
  {
   "cell_type": "code",
   "execution_count": 3,
   "id": "7cc71c38",
   "metadata": {},
   "outputs": [
    {
     "data": {
      "text/plain": [
       "[0, 1, 2, 3, 66, 9, 77, -1, -2]"
      ]
     },
     "execution_count": 3,
     "metadata": {},
     "output_type": "execute_result"
    }
   ],
   "source": [
    "# common element in list1,list2,list3\n",
    "\n",
    "\n",
    "list1=[1,2,3,-2,-1,0,9,0,66,77,0,0,123,1,-1,12]\n",
    "list2=[1,2,3,-2,-1,0,9,0,66,77,0,0,666,1,-1,13]\n",
    "list3=[88,2,3,-2,-1,0,9,0,66,77,0,0,123,1,-1,12]\n",
    "\n",
    "list4=list((set(list1).intersection(set(list2).intersection(set(list3)))))\n",
    "\n",
    "list4\n",
    " "
   ]
  },
  {
   "cell_type": "markdown",
   "id": "a76b015f",
   "metadata": {},
   "source": [
    "# question 3/program"
   ]
  },
  {
   "cell_type": "code",
   "execution_count": 4,
   "id": "e14f1fdf",
   "metadata": {},
   "outputs": [
    {
     "name": "stdout",
     "output_type": "stream",
     "text": [
      "Object Ball\n",
      "Coloure Red\n"
     ]
    }
   ],
   "source": [
    "# suitable data structure for store the deteails\n",
    "\n",
    "d={'Object':'Ball','Coloure':'Red'}\n",
    "for key, value in d.items():\n",
    "    print(key,value)"
   ]
  },
  {
   "cell_type": "markdown",
   "id": "66dd55f1",
   "metadata": {},
   "source": [
    "# question 4/program"
   ]
  },
  {
   "cell_type": "code",
   "execution_count": 5,
   "id": "d0ef798a",
   "metadata": {},
   "outputs": [
    {
     "name": "stdout",
     "output_type": "stream",
     "text": [
      "-3 1 0 -9 5 "
     ]
    }
   ],
   "source": [
    "# storing the element\n",
    "\n",
    "# (a)\n",
    "\n",
    "import array as arr\n",
    "a=arr.array('i',[-3,1,0,-9,5])\n",
    "for x in a:\n",
    "    print(x,end=\" \")"
   ]
  },
  {
   "cell_type": "code",
   "execution_count": 6,
   "id": "3478c2c1",
   "metadata": {},
   "outputs": [
    {
     "name": "stdout",
     "output_type": "stream",
     "text": [
      "1 a 3 r "
     ]
    }
   ],
   "source": [
    "# (b)\n",
    "\n",
    "mylist=[1,'a',3,'r']\n",
    "for num in mylist:\n",
    "    print(num,end=\" \")"
   ]
  },
  {
   "cell_type": "markdown",
   "id": "41563e96",
   "metadata": {},
   "source": [
    "# question 5/program"
   ]
  },
  {
   "cell_type": "code",
   "execution_count": 7,
   "id": "3337f4bd",
   "metadata": {},
   "outputs": [
    {
     "name": "stdout",
     "output_type": "stream",
     "text": [
      "a is vowel\n",
      "o is vowel\n",
      "h is consonant\n",
      "e is vowel\n",
      "j is consonant\n"
     ]
    }
   ],
   "source": [
    "S=['a','o','h','e','j']\n",
    "for num in S: \n",
    "    if num in ('a','e','i','o','u'):\n",
    "        print('{} is vowel'.format(num))\n",
    "    else:\n",
    "        print('{} is consonant'.format(num))\n",
    "        "
   ]
  },
  {
   "cell_type": "code",
   "execution_count": 8,
   "id": "1703cfc1",
   "metadata": {},
   "outputs": [
    {
     "name": "stdout",
     "output_type": "stream",
     "text": [
      "[0]\n",
      "[0, 1]\n",
      "[0, 1, 2]\n",
      "[0, 1, 2, 3]\n",
      "[0, 1, 2, 3, 4]\n"
     ]
    }
   ],
   "source": [
    "a=[]\n",
    "for i in range(5):\n",
    "    a.append(i)\n",
    "    print(a)"
   ]
  },
  {
   "cell_type": "markdown",
   "id": "938b2ea9",
   "metadata": {},
   "source": [
    "# question 7/program"
   ]
  },
  {
   "cell_type": "code",
   "execution_count": null,
   "id": "542ee533",
   "metadata": {},
   "outputs": [
    {
     "name": "stdout",
     "output_type": "stream",
     "text": [
      "enter element in row colum[0][0]\n",
      "enter element in row colum[0][1]\n"
     ]
    }
   ],
   "source": [
    "# (a)\n",
    "\n",
    "# construction of matrix\n",
    "\n",
    "\n",
    "a=[]\n",
    "for i in range(3):\n",
    "    b=[]\n",
    "    for j in range(3):\n",
    "        j=input(\"enter element in row colum[\"+str(i)+\"][\"+str(j)+\"]\")\n",
    "        b.append(j)\n",
    "    a.append(b)\n",
    "print(\"matrix is .....\")\n",
    "for i in range(3):\n",
    "    for j in range(3):\n",
    "        print(a[i][j],end=\" \")\n",
    "    print()\n",
    "            "
   ]
  },
  {
   "cell_type": "code",
   "execution_count": null,
   "id": "153ed79b",
   "metadata": {},
   "outputs": [],
   "source": [
    "# (c) \n",
    "\n",
    "#  inserting 7,4,6 as last column\n",
    "\n",
    "\n",
    "a=int(input(\"enter numer of rows \"))\n",
    "b=int(input(\"enter numer of coloums \"))\n",
    "matrix=[]\n",
    "for i in range(a):\n",
    "    c=[]\n",
    "    for j in range (b):\n",
    "        j=int(input(\"enter number of row coloums \"+str(i)+\" \"+str(j)+\"    \"))\n",
    "        c.append(j)\n",
    "    print()\n",
    "    matrix.append(c)\n",
    "              \n",
    "for i in range(a):\n",
    "    for j in range(b):\n",
    "            print(matrix[i][j],end=\"    \")\n",
    "    print()"
   ]
  },
  {
   "cell_type": "code",
   "execution_count": null,
   "id": "9d1cccaa",
   "metadata": {},
   "outputs": [],
   "source": [
    "# (d) \n",
    "\n",
    "#  inserting 8,-1,6 as last row\n",
    "\n",
    "\n",
    "a=int(input(\"enter numer of rows \"))\n",
    "b=int(input(\"enter numer of coloums \"))\n",
    "matrix=[]\n",
    "for i in range(a):\n",
    "    c=[]\n",
    "    for j in range (b):\n",
    "        j=int(input(\"enter number of row coloums \"+str(i)+\" \"+str(j)+\"    \"))\n",
    "        c.append(j)\n",
    "    print()\n",
    "    matrix.append(c)\n",
    "              \n",
    "for i in range(a):\n",
    "    for j in range(b):\n",
    "            print(matrix[i][j],end=\"    \")\n",
    "    print()"
   ]
  },
  {
   "cell_type": "code",
   "execution_count": 1,
   "id": "b1a8edd4",
   "metadata": {},
   "outputs": [
    {
     "name": "stdout",
     "output_type": "stream",
     "text": [
      "enter numer of rows 3\n",
      "enter numer of coloums 4\n",
      "enter number of row coloums 0 0    3\n",
      "enter number of row coloums 0 1    2\n",
      "enter number of row coloums 0 2    -1\n",
      "enter number of row coloums 0 3    4\n",
      "\n",
      "enter number of row coloums 1 0    1\n",
      "enter number of row coloums 1 1    3\n",
      "enter number of row coloums 1 2    5\n",
      "enter number of row coloums 1 3    6\n",
      "\n",
      "enter number of row coloums 2 0    1\n",
      "enter number of row coloums 2 1    -5\n",
      "enter number of row coloums 2 2    0\n",
      "enter number of row coloums 2 3    2\n",
      "\n",
      "3    2    -1    4    \n",
      "1    3    5    6    \n",
      "1    -5    0    2    \n"
     ]
    }
   ],
   "source": [
    "# (e) \n",
    "\n",
    "#  inserting 2,3,-5 as second column\n",
    "\n",
    "\n",
    "a=int(input(\"enter numer of rows \"))\n",
    "b=int(input(\"enter numer of coloums \"))\n",
    "matrix=[]\n",
    "for i in range(a):\n",
    "    c=[]\n",
    "    for j in range (b):\n",
    "        j=int(input(\"enter number of row coloums \"+str(i)+\" \"+str(j)+\"    \"))\n",
    "        c.append(j)\n",
    "    print()\n",
    "    matrix.append(c)\n",
    "              \n",
    "for i in range(a):\n",
    "    for j in range(b):\n",
    "            print(matrix[i][j],end=\"    \")\n",
    "    print()\n",
    "    "
   ]
  },
  {
   "cell_type": "code",
   "execution_count": 4,
   "id": "8dd4f4a0",
   "metadata": {},
   "outputs": [
    {
     "name": "stdout",
     "output_type": "stream",
     "text": [
      "enter element in row colum[0][0]1\n",
      "enter element in row colum[0][1]2\n",
      "enter element in row colum[0][2]3\n",
      "enter element in row colum[1][0]4\n",
      "enter element in row colum[1][1]5\n",
      "enter element in row colum[1][2]6\n",
      "enter element in row colum[2][0]7\n",
      "enter element in row colum[2][1]8\n",
      "enter element in row colum[2][2]9\n",
      "matrix is .....\n",
      "1 2 3 \n",
      "4 5 6 \n",
      "7 8 9 \n",
      "after swaping first and third colum\n",
      "3 2 1 \n",
      "6 5 4 \n",
      "9 8 7 \n"
     ]
    }
   ],
   "source": [
    "# (f)\n",
    "\n",
    "# swaping of first and third column\n",
    "\n",
    "a=[]\n",
    "for i in range(3):\n",
    "    b=[]\n",
    "    for j in range(3):\n",
    "        j=input(\"enter element in row colum[\"+str(i)+\"][\"+str(j)+\"]\")\n",
    "        b.append(j)\n",
    "    a.append(b)\n",
    "print(\"matrix is .....\")\n",
    "for i in range(3):\n",
    "    for j in range(3):\n",
    "        print(a[i][j],end=\" \")\n",
    "    print()\n",
    "    \n",
    "for i in range(3):\n",
    "    t=a[i][0]\n",
    "    a[i][0]=a[i][2]\n",
    "    a[i][2]=t\n",
    "print(\"after swaping first and third colum\")\n",
    "for i in range(3):\n",
    "    for j in range(3):\n",
    "        print(a[i][j],end=\" \")\n",
    "    print()"
   ]
  },
  {
   "cell_type": "code",
   "execution_count": 3,
   "id": "23881d19",
   "metadata": {},
   "outputs": [
    {
     "name": "stdout",
     "output_type": "stream",
     "text": [
      "enter element in row colum[0][0]3\n",
      "enter element in row colum[0][1]-1\n",
      "enter element in row colum[0][2]4\n",
      "enter element in row colum[1][0]1\n",
      "enter element in row colum[1][1]5\n",
      "enter element in row colum[1][2]6\n",
      "enter element in row colum[2][0]1\n",
      "enter element in row colum[2][1]0\n",
      "enter element in row colum[2][2]2\n",
      "matrix is .....\n",
      "3 -1 4 \n",
      "1 5 6 \n",
      "1 0 2 \n",
      "after swaping first and second row\n",
      "1 5 6 \n",
      "3 -1 4 \n",
      "1 0 2 \n"
     ]
    }
   ],
   "source": [
    "#(g)\n",
    "\n",
    "# swaping first and second row\n",
    "\n",
    "\n",
    "a=[]\n",
    "for i in range(3):\n",
    "    b=[]\n",
    "    for j in range(3):\n",
    "        j=input(\"enter element in row colum[\"+str(i)+\"][\"+str(j)+\"]\")\n",
    "        b.append(j)\n",
    "    a.append(b)\n",
    "print(\"matrix is .....\")\n",
    "for i in range(3):\n",
    "    for j in range(3):\n",
    "        print(a[i][j],end=\" \")\n",
    "    print()\n",
    "    \n",
    "for i in range(3):\n",
    "    t=a[0][i]\n",
    "    a[0][i]=a[1][i]\n",
    "    a[1][i]=t\n",
    "print(\"after swaping first and second row\")\n",
    "for i in range(3):\n",
    "    for j in range(3):\n",
    "        print(a[i][j],end=\" \")\n",
    "    print()"
   ]
  },
  {
   "cell_type": "markdown",
   "id": "f8c149cd",
   "metadata": {},
   "source": [
    "# question 8/program"
   ]
  },
  {
   "cell_type": "code",
   "execution_count": 1,
   "id": "764a094e",
   "metadata": {},
   "outputs": [
    {
     "name": "stdout",
     "output_type": "stream",
     "text": [
      "enter number of row3\n",
      "enter number of column3\n",
      "enter first matrix number3\n",
      "enter first matrix number-1\n",
      "enter first matrix number4\n",
      "enter first matrix number1\n",
      "enter first matrix number5\n",
      "enter first matrix number6\n",
      "enter first matrix number1\n",
      "enter first matrix number0\n",
      "enter first matrix number2\n",
      "enter scond matrix number2\n",
      "enter scond matrix number-1\n",
      "enter scond matrix number1\n",
      "enter scond matrix number3\n",
      "enter scond matrix number2\n",
      "enter scond matrix number-6\n",
      "enter scond matrix number4\n",
      "enter scond matrix number-5\n",
      "enter scond matrix number2\n",
      "matrix A\n",
      "3 -1 4 \n",
      "1 5 6 \n",
      "1 0 2 \n",
      "matrix B\n",
      "2 -1 1 \n",
      "3 2 -6 \n",
      "4 -5 2 \n"
     ]
    }
   ],
   "source": [
    "# (a)\n",
    "\n",
    "# construction of matrix A and B\n",
    "\n",
    "\n",
    "a=int(input(\"enter number of row\"))\n",
    "b=int(input(\"enter number of column\"))\n",
    "matrix=[]\n",
    "for i in range(a):\n",
    "    c=[]\n",
    "    for j in range(b):\n",
    "        j=int(input(\"enter first matrix number\"))\n",
    "        c.append(j)\n",
    "    matrix.append(c)\n",
    "matrix1=[]\n",
    "for i in range(a):\n",
    "    d=[]\n",
    "    for j in range(b):\n",
    "        j=int(input(\"enter scond matrix number\"))\n",
    "        d.append(j)\n",
    "    matrix1.append(d) \n",
    "        \n",
    "print(\"matrix A\")\n",
    "for i in range(a):\n",
    "    for j in range(b):\n",
    "        print(matrix[i][j],end=\" \")\n",
    "    print()\n",
    "print(\"matrix B\")\n",
    "for i in range(a):\n",
    "    for j in range(b):\n",
    "        print(matrix1[i][j],end=\" \")\n",
    "    print()"
   ]
  },
  {
   "cell_type": "code",
   "execution_count": 1,
   "id": "05028f6f",
   "metadata": {},
   "outputs": [
    {
     "name": "stdout",
     "output_type": "stream",
     "text": [
      "enter number of row3\n",
      "enter number of column3\n",
      "enter first matrix number3\n",
      "enter first matrix number-1\n",
      "enter first matrix number4\n",
      "enter first matrix number1\n",
      "enter first matrix number5\n",
      "enter first matrix number6\n",
      "enter first matrix number1\n",
      "enter first matrix number0\n",
      "enter first matrix number2\n",
      "enter scond matrix number2\n",
      "enter scond matrix number-1\n",
      "enter scond matrix number1\n",
      "enter scond matrix number3\n",
      "enter scond matrix number2\n",
      "enter scond matrix number-6\n",
      "enter scond matrix number4\n",
      "enter scond matrix number-5\n",
      "enter scond matrix number2\n",
      " matrix A \n",
      "3   -1   4   \n",
      "1   5   6   \n",
      "1   0   2   \n",
      " matrix B \n",
      "2   -1   1   \n",
      "3   2   -6   \n",
      "4   -5   2   \n",
      " result matrix = A + B \n",
      "5   -2   5   \n",
      "4   7   0   \n",
      "5   -5   4   \n"
     ]
    }
   ],
   "source": [
    "# (b)\n",
    "\n",
    "# additin of matrix A and B\n",
    "\n",
    "\n",
    "a=int(input(\"enter number of row\"))\n",
    "b=int(input(\"enter number of column\"))\n",
    "matrix=[]\n",
    "for i in range(a):\n",
    "    c=[]\n",
    "    for j in range(b):\n",
    "        j=int(input(\"enter first matrix number\"))\n",
    "        c.append(j)\n",
    "    matrix.append(c)\n",
    "matrix1=[]\n",
    "for i in range(a):\n",
    "    d=[]\n",
    "    for j in range(b):\n",
    "        j=int(input(\"enter scond matrix number\"))\n",
    "        d.append(j)\n",
    "    matrix1.append(d) \n",
    "        \n",
    "print(\" matrix A \")\n",
    "for i in range(a):\n",
    "    for j in range(b):\n",
    "        print(matrix[i][j],end=\"   \")\n",
    "    print()\n",
    "print(\" matrix B \")\n",
    "for i in range(a):\n",
    "    for j in range(b):\n",
    "        print(matrix1[i][j],end=\"   \")\n",
    "    print()\n",
    "result=[[0,0,0],[0,0,0],[0,0,0]]\n",
    "for i in range(a):\n",
    "    for j in range(b):\n",
    "            result[i][j]=matrix[i][j]+matrix1[i][j]\n",
    "    \n",
    "print(\" result matrix = A + B \")\n",
    "for i in range(a):\n",
    "    for j in range(b):\n",
    "        print(result[i][j],end=\"   \")\n",
    "    print()\n",
    "         \n",
    "        "
   ]
  },
  {
   "cell_type": "code",
   "execution_count": 2,
   "id": "7e0ee5cf",
   "metadata": {},
   "outputs": [
    {
     "name": "stdout",
     "output_type": "stream",
     "text": [
      "enter number of row3\n",
      "enter number of column3\n",
      "enter first matrix number3\n",
      "enter first matrix number-1\n",
      "enter first matrix number4\n",
      "enter first matrix number1\n",
      "enter first matrix number5\n",
      "enter first matrix number6\n",
      "enter first matrix number1\n",
      "enter first matrix number0\n",
      "enter first matrix number2\n",
      "enter scond matrix number2\n",
      "enter scond matrix number-1\n",
      "enter scond matrix number1\n",
      "enter scond matrix number3\n",
      "enter scond matrix number2\n",
      "enter scond matrix number-6\n",
      "enter scond matrix number4\n",
      "enter scond matrix number-5\n",
      "enter scond matrix number2\n",
      " matrix A \n",
      "3   -1   4   \n",
      "1   5   6   \n",
      "1   0   2   \n",
      " matrix B \n",
      "2   -1   1   \n",
      "3   2   -6   \n",
      "4   -5   2   \n",
      " result matrix = A*B \n",
      "6   1   4   \n",
      "3   10   -36   \n",
      "4   0   4   \n"
     ]
    }
   ],
   "source": [
    "# (c)\n",
    "\n",
    "#  A * B\n",
    "\n",
    "\n",
    "a=int(input(\"enter number of row\"))\n",
    "b=int(input(\"enter number of column\"))\n",
    "matrix=[]\n",
    "for i in range(a):\n",
    "    c=[]\n",
    "    for j in range(b):\n",
    "        j=int(input(\"enter first matrix number\"))\n",
    "        c.append(j)\n",
    "    matrix.append(c)\n",
    "matrix1=[]\n",
    "for i in range(a):\n",
    "    d=[]\n",
    "    for j in range(b):\n",
    "        j=int(input(\"enter scond matrix number\"))\n",
    "        d.append(j)\n",
    "    matrix1.append(d) \n",
    "        \n",
    "print(\" matrix A \")\n",
    "for i in range(a):\n",
    "    for j in range(b):\n",
    "        print(matrix[i][j],end=\"   \")\n",
    "    print()\n",
    "print(\" matrix B \")\n",
    "for i in range(a):\n",
    "    for j in range(b):\n",
    "        print(matrix1[i][j],end=\"   \")\n",
    "    print()\n",
    "result=[[0,0,0],[0,0,0],[0,0,0]]\n",
    "for i in range(a):\n",
    "    for j in range(b):\n",
    "            result[i][j]=matrix[i][j]*matrix1[i][j]\n",
    "    \n",
    "print(\" result matrix = A*B \")\n",
    "for i in range(a):\n",
    "    for j in range(b):\n",
    "        print(result[i][j],end=\"   \")\n",
    "    print()\n",
    "         \n",
    "        "
   ]
  },
  {
   "cell_type": "code",
   "execution_count": null,
   "id": "14e15ae4",
   "metadata": {},
   "outputs": [],
   "source": []
  },
  {
   "cell_type": "code",
   "execution_count": null,
   "id": "06566690",
   "metadata": {},
   "outputs": [],
   "source": []
  }
 ],
 "metadata": {
  "kernelspec": {
   "display_name": "Python 3",
   "language": "python",
   "name": "python3"
  },
  "language_info": {
   "codemirror_mode": {
    "name": "ipython",
    "version": 3
   },
   "file_extension": ".py",
   "mimetype": "text/x-python",
   "name": "python",
   "nbconvert_exporter": "python",
   "pygments_lexer": "ipython3",
   "version": "3.8.8"
  }
 },
 "nbformat": 4,
 "nbformat_minor": 5
}
